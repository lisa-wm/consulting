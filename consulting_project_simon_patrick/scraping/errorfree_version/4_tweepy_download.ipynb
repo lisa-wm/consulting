{
 "cells": [
  {
   "cell_type": "code",
   "execution_count": 5,
   "metadata": {},
   "outputs": [],
   "source": [
    "import pandas as pd\n",
    "import os\n",
    "import pickle\n",
    "import tweepy_helpers as th"
   ]
  },
  {
   "cell_type": "code",
   "execution_count": 6,
   "metadata": {},
   "outputs": [
    {
     "data": {
      "text/plain": [
       "'D:\\\\data\\\\web_scraping'"
      ]
     },
     "execution_count": 6,
     "metadata": {},
     "output_type": "execute_result"
    }
   ],
   "source": [
    "# set up working directory\n",
    "os.path.abspath(os.getcwd()) # initial working directory (should be equal to source file directory if using Jupyter Notebook)\n",
    "\n",
    "if not os.path.exists('D:\\\\data\\\\web_scraping'):\n",
    "    os.makedirs('D:\\\\data\\\\web_scraping')\n",
    "    \n",
    "    \n",
    "os.chdir('D:\\\\data\\\\web_scraping') # change to directory where all data files are stored\n",
    "# check working directory\n",
    "os.path.abspath(os.getcwd())"
   ]
  },
  {
   "cell_type": "code",
   "execution_count": 7,
   "metadata": {},
   "outputs": [],
   "source": [
    "# import Bundestag data\n",
    "with open('abg_df.pickle', 'rb') as handle:\n",
    "    bt_data = pickle.load(handle)\n",
    "    \n",
    "# select name and username for each member and store in table called twitter_account\n",
    "names = bt_data['Name']\n",
    "twitter_usernames = bt_data['Twitter']\n",
    "names.rename(\"name\", inplace = True)\n",
    "twitter_usernames.rename(\"username\", inplace = True)\n",
    "twitter_account = pd.concat([names, twitter_usernames], axis = 1)\n",
    "\n",
    "# drop usernames that are nan or empty (i.e. parliamentarians with no account)\n",
    "usr_nan = twitter_account.username.isna()\n",
    "usr_empty = twitter_account.username == ''\n",
    "twitter_account = twitter_account[~(usr_nan | usr_empty)]\n",
    "twitter_account.reset_index(drop = True, inplace = True)\n",
    "\n"
   ]
  },
  {
   "cell_type": "code",
   "execution_count": 8,
   "metadata": {},
   "outputs": [
    {
     "name": "stdout",
     "output_type": "stream",
     "text": [
      "data for user EspendillerM cannot be downloaded\n",
      "data for user FechnerJohannes cannot be downloaded\n",
      "data for user friedhoff_afd cannot be downloaded\n",
      "data for user search cannot be downloaded\n",
      "data for user gabihillerohm cannot be downloaded\n",
      "data for user Karsten_Hilse cannot be downloaded\n",
      "data for user fjunge cannot be downloaded\n",
      "data for user uwe_kamann cannot be downloaded\n",
      "data for user AchimKessler cannot be downloaded\n",
      "data for user BabettesChefin cannot be downloaded\n",
      "data for user buerger2016 cannot be downloaded\n",
      "data for user thlutze cannot be downloaded\n",
      "data for user SiemtjeMoeller cannot be downloaded\n",
      "data for user martinrabanus cannot be downloaded\n",
      "data for user ManuelaRottmann cannot be downloaded\n",
      "data for user UdoSchiefner cannot be downloaded\n",
      "data for user jojoschraps cannot be downloaded\n",
      "data for user swenschulz cannot be downloaded\n",
      "data for user JensZimmermann1 cannot be downloaded\n"
     ]
    }
   ],
   "source": [
    "# download most recent tweets using tweepy (at most 3200 tweets per user)\n",
    "tweepy_df = pd.DataFrame()\n",
    "for username in twitter_account['username']:\n",
    "    tweepy_df = pd.concat([tweepy_df, th.download_tweets_tweepy(username)])\n",
    "# add column 'name'\n",
    "tweepy_df = twitter_account.merge(tweepy_df, on = 'username')\n",
    "\n",
    "# save data\n",
    "with open('tweepy_df.pickle', 'wb') as handle:\n",
    "    pickle.dump(tweepy_df, handle, protocol=pickle.HIGHEST_PROTOCOL)"
   ]
  },
  {
   "cell_type": "code",
   "execution_count": null,
   "metadata": {},
   "outputs": [],
   "source": []
  },
  {
   "cell_type": "code",
   "execution_count": null,
   "metadata": {},
   "outputs": [],
   "source": []
  }
 ],
 "metadata": {
  "kernelspec": {
   "display_name": "Python 3",
   "language": "python",
   "name": "python3"
  },
  "language_info": {
   "codemirror_mode": {
    "name": "ipython",
    "version": 3
   },
   "file_extension": ".py",
   "mimetype": "text/x-python",
   "name": "python",
   "nbconvert_exporter": "python",
   "pygments_lexer": "ipython3",
   "version": "3.7.6"
  }
 },
 "nbformat": 4,
 "nbformat_minor": 4
}

{
 "cells": [
  {
   "cell_type": "markdown",
   "metadata": {},
   "source": [
    "# Scraping MPs' tweets"
   ]
  },
  {
   "cell_type": "markdown",
   "metadata": {},
   "source": [
    "### Prerequisites"
   ]
  },
  {
   "cell_type": "code",
   "execution_count": 1,
   "metadata": {},
   "outputs": [],
   "source": [
    "# Libraries\n",
    "\n",
    "import pandas as pd\n",
    "import os\n",
    "import pickle\n",
    "import tweepy_lisa as th\n",
    "import ctypes\n",
    "import math\n",
    "import numpy as np\n",
    "import tweepy"
   ]
  },
  {
   "cell_type": "code",
   "execution_count": 2,
   "metadata": {},
   "outputs": [
    {
     "data": {
      "text/plain": [
       "'C:\\\\Users\\\\wimme\\\\Documents\\\\1_uni\\\\1_master\\\\consulting\\\\projects\\\\consulting\\\\1_scraping'"
      ]
     },
     "execution_count": 2,
     "metadata": {},
     "output_type": "execute_result"
    }
   ],
   "source": [
    "# Define user path (comment out the irrelevant one) and set working directory\n",
    "\n",
    "my_path = 'C:\\\\Users\\\\wimme\\\\Documents\\\\1_uni\\\\1_master\\\\consulting\\\\projects\\\\consulting\\\\1_scraping'\n",
    "# my_path = 'Asmiks path'\n",
    "os.chdir(my_path)\n",
    "os.path.abspath(os.getcwd())"
   ]
  },
  {
   "cell_type": "markdown",
   "metadata": {},
   "source": [
    "### Preparation"
   ]
  },
  {
   "cell_type": "code",
   "execution_count": 3,
   "metadata": {},
   "outputs": [],
   "source": [
    "# Import Bundestag data\n",
    "\n",
    "with open('output/abg_twitter_df.pickle', 'rb') as handle:\n",
    "    abg_twitter_df = pickle.load(handle)\n",
    "    \n",
    "# Select name, party and username for each member and store in table called twitter_account\n",
    "\n",
    "names = abg_twitter_df['name_matching']\n",
    "twitter_usernames = abg_twitter_df['twitter']\n",
    "twitter_usernames.rename('username', inplace = True)\n",
    "twitter_account = pd.concat([names, twitter_usernames], axis = 1)\n",
    "\n",
    "# Drop usernames that are nan or empty (i.e. parliamentarians with no account)\n",
    "\n",
    "usr_nan = twitter_account.username.isna()\n",
    "twitter_account = twitter_account[~(usr_nan)]\n",
    "twitter_account.reset_index(drop = True, inplace = True)\n"
   ]
  },
  {
   "cell_type": "markdown",
   "metadata": {},
   "source": [
    "### Scraping"
   ]
  },
  {
   "cell_type": "code",
   "execution_count": 4,
   "metadata": {},
   "outputs": [],
   "source": [
    "tweepy_df = pd.DataFrame()"
   ]
  },
  {
   "cell_type": "code",
   "execution_count": 5,
   "metadata": {},
   "outputs": [
    {
     "name": "stdout",
     "output_type": "stream",
     "text": [
      "Data for user doris_achelwilm cannot be downloaded\n",
      "Data for user Manfredbehrens cannot be downloaded\n",
      "Data for user BystronAfD cannot be downloaded\n",
      "Data for user EspendillerM cannot be downloaded\n",
      "Data for user FechnerJohannes cannot be downloaded\n",
      "Data for user UweFe cannot be downloaded\n",
      "Data for user friedhoff_afd cannot be downloaded\n",
      "Data for user HPFriedrichCSU cannot be downloaded\n",
      "Data for user manfred_grund cannot be downloaded\n",
      "Data for user FGuentzler cannot be downloaded\n",
      "Data for user ChristianHaase6 cannot be downloaded\n",
      "Data for user frankheinrich cannot be downloaded\n",
      "Data for user GabiHillerOhm cannot be downloaded\n",
      "Data for user HilseMdb cannot be downloaded\n",
      "Data for user fjunge cannot be downloaded\n",
      "Data for user AchimKessler cannot be downloaded\n",
      "Data for user koobmar cannot be downloaded\n",
      "Data for user BabettesChefin cannot be downloaded\n",
      "Data for user UlrichLange cannot be downloaded\n",
      "Data for user Team_GLoetzsch cannot be downloaded\n",
      "Data for user thlutze cannot be downloaded\n",
      "Data for user AMattfeldt cannot be downloaded\n",
      "Data for user SiemtjeMoeller cannot be downloaded\n",
      "Data for user MdBMonstadt cannot be downloaded\n",
      "Data for user WilfriedOellers cannot be downloaded\n",
      "Data for user #! cannot be downloaded\n",
      "Data for user ProtschkaStepha cannot be downloaded\n",
      "Data for user martinrabanus cannot be downloaded\n",
      "Data for user ManuelaRottmann cannot be downloaded\n",
      "Data for user SchaeferCDU cannot be downloaded\n",
      "Data for user UdoSchiefner cannot be downloaded\n",
      "Data for user swenschulz cannot be downloaded\n",
      "Data for user SpringerRen cannot be downloaded\n",
      "Data for user #! cannot be downloaded\n",
      "Data for user MdBMarkusUhl cannot be downloaded\n",
      "Data for user PeterWeissMdB cannot be downloaded\n",
      "Data for user JensZimmermann1 cannot be downloaded\n"
     ]
    },
    {
     "data": {
      "text/plain": [
       "0"
      ]
     },
     "execution_count": 5,
     "metadata": {},
     "output_type": "execute_result"
    }
   ],
   "source": [
    "# Download most recent tweets using tweepy (at most 3200 tweets per user)\n",
    "\n",
    "for username in twitter_account['username']:\n",
    "    tweepy_df = pd.concat([tweepy_df, th.download_tweets_tweepy_mod(username)])\n",
    "    \n",
    "tweepy_df = twitter_account.merge(tweepy_df, on = 'username')\n",
    "\n",
    "ctypes.windll.user32.MessageBoxW(0, \"Twitter data successfully scraped\", \"Progress Report\")"
   ]
  },
  {
   "cell_type": "code",
   "execution_count": 6,
   "metadata": {},
   "outputs": [
    {
     "data": {
      "text/html": [
       "<div>\n",
       "<style scoped>\n",
       "    .dataframe tbody tr th:only-of-type {\n",
       "        vertical-align: middle;\n",
       "    }\n",
       "\n",
       "    .dataframe tbody tr th {\n",
       "        vertical-align: top;\n",
       "    }\n",
       "\n",
       "    .dataframe thead th {\n",
       "        text-align: right;\n",
       "    }\n",
       "</style>\n",
       "<table border=\"1\" class=\"dataframe\">\n",
       "  <thead>\n",
       "    <tr style=\"text-align: right;\">\n",
       "      <th></th>\n",
       "      <th>name_matching</th>\n",
       "      <th>username</th>\n",
       "      <th>available</th>\n",
       "      <th>created_at</th>\n",
       "      <th>full_text</th>\n",
       "      <th>retweet_count</th>\n",
       "      <th>favorite_count</th>\n",
       "      <th>followers_count</th>\n",
       "      <th>location</th>\n",
       "      <th>hashtags</th>\n",
       "      <th>mentions</th>\n",
       "    </tr>\n",
       "  </thead>\n",
       "  <tbody>\n",
       "    <tr>\n",
       "      <th>0</th>\n",
       "      <td>Michael Abercron</td>\n",
       "      <td>mvabercron</td>\n",
       "      <td>True</td>\n",
       "      <td>2020-11-10 13:45:58</td>\n",
       "      <td>Unsere #ZahlDerWoche dreht sich heute um den #...</td>\n",
       "      <td>0.0</td>\n",
       "      <td>2.0</td>\n",
       "      <td>858.0</td>\n",
       "      <td>Pinneberg, Deutschland</td>\n",
       "      <td>[ZahlDerWoche, WelttagDerWissenschaft, Corona]</td>\n",
       "      <td>[]</td>\n",
       "    </tr>\n",
       "    <tr>\n",
       "      <th>1</th>\n",
       "      <td>Michael Abercron</td>\n",
       "      <td>mvabercron</td>\n",
       "      <td>True</td>\n",
       "      <td>2020-11-05 13:16:32</td>\n",
       "      <td>Offshore-Windanlagen sollen ein wichtiger Baus...</td>\n",
       "      <td>0.0</td>\n",
       "      <td>2.0</td>\n",
       "      <td>858.0</td>\n",
       "      <td>Pinneberg, Deutschland</td>\n",
       "      <td>[JetztZukunft]</td>\n",
       "      <td>[]</td>\n",
       "    </tr>\n",
       "    <tr>\n",
       "      <th>2</th>\n",
       "      <td>Michael Abercron</td>\n",
       "      <td>mvabercron</td>\n",
       "      <td>True</td>\n",
       "      <td>2020-10-26 21:37:35</td>\n",
       "      <td>Kollegin Schimke hat wie so oft Recht. Danach ...</td>\n",
       "      <td>4.0</td>\n",
       "      <td>28.0</td>\n",
       "      <td>858.0</td>\n",
       "      <td>Pinneberg, Deutschland</td>\n",
       "      <td>[]</td>\n",
       "      <td>[]</td>\n",
       "    </tr>\n",
       "    <tr>\n",
       "      <th>3</th>\n",
       "      <td>Michael Abercron</td>\n",
       "      <td>mvabercron</td>\n",
       "      <td>True</td>\n",
       "      <td>2020-10-26 12:29:35</td>\n",
       "      <td>@OldTomBom @WWPanda75 @_FriedrichMerz Delegier...</td>\n",
       "      <td>0.0</td>\n",
       "      <td>0.0</td>\n",
       "      <td>858.0</td>\n",
       "      <td>Pinneberg, Deutschland</td>\n",
       "      <td>[]</td>\n",
       "      <td>[OldTomBom, WWPanda75, _FriedrichMerz]</td>\n",
       "    </tr>\n",
       "    <tr>\n",
       "      <th>4</th>\n",
       "      <td>Michael Abercron</td>\n",
       "      <td>mvabercron</td>\n",
       "      <td>True</td>\n",
       "      <td>2020-10-26 12:27:16</td>\n",
       "      <td>@OldTomBom @WWPanda75 @_FriedrichMerz Nicht ga...</td>\n",
       "      <td>0.0</td>\n",
       "      <td>0.0</td>\n",
       "      <td>858.0</td>\n",
       "      <td>Pinneberg, Deutschland</td>\n",
       "      <td>[]</td>\n",
       "      <td>[OldTomBom, WWPanda75, _FriedrichMerz]</td>\n",
       "    </tr>\n",
       "  </tbody>\n",
       "</table>\n",
       "</div>"
      ],
      "text/plain": [
       "      name_matching    username  available          created_at  \\\n",
       "0  Michael Abercron  mvabercron       True 2020-11-10 13:45:58   \n",
       "1  Michael Abercron  mvabercron       True 2020-11-05 13:16:32   \n",
       "2  Michael Abercron  mvabercron       True 2020-10-26 21:37:35   \n",
       "3  Michael Abercron  mvabercron       True 2020-10-26 12:29:35   \n",
       "4  Michael Abercron  mvabercron       True 2020-10-26 12:27:16   \n",
       "\n",
       "                                           full_text  retweet_count  \\\n",
       "0  Unsere #ZahlDerWoche dreht sich heute um den #...            0.0   \n",
       "1  Offshore-Windanlagen sollen ein wichtiger Baus...            0.0   \n",
       "2  Kollegin Schimke hat wie so oft Recht. Danach ...            4.0   \n",
       "3  @OldTomBom @WWPanda75 @_FriedrichMerz Delegier...            0.0   \n",
       "4  @OldTomBom @WWPanda75 @_FriedrichMerz Nicht ga...            0.0   \n",
       "\n",
       "   favorite_count  followers_count                location  \\\n",
       "0             2.0            858.0  Pinneberg, Deutschland   \n",
       "1             2.0            858.0  Pinneberg, Deutschland   \n",
       "2            28.0            858.0  Pinneberg, Deutschland   \n",
       "3             0.0            858.0  Pinneberg, Deutschland   \n",
       "4             0.0            858.0  Pinneberg, Deutschland   \n",
       "\n",
       "                                         hashtags  \\\n",
       "0  [ZahlDerWoche, WelttagDerWissenschaft, Corona]   \n",
       "1                                  [JetztZukunft]   \n",
       "2                                              []   \n",
       "3                                              []   \n",
       "4                                              []   \n",
       "\n",
       "                                 mentions  \n",
       "0                                      []  \n",
       "1                                      []  \n",
       "2                                      []  \n",
       "3  [OldTomBom, WWPanda75, _FriedrichMerz]  \n",
       "4  [OldTomBom, WWPanda75, _FriedrichMerz]  "
      ]
     },
     "execution_count": 6,
     "metadata": {},
     "output_type": "execute_result"
    }
   ],
   "source": [
    "tweepy_df.head()"
   ]
  },
  {
   "cell_type": "markdown",
   "metadata": {},
   "source": [
    "### Saving"
   ]
  },
  {
   "cell_type": "code",
   "execution_count": 7,
   "metadata": {},
   "outputs": [],
   "source": [
    "# Create random subset of tweepy_df to have smaller data to try methods on\n",
    "\n",
    "tweepy_df_subset = tweepy_df.sample(frac = 0.1, replace = False, random_state = 1)"
   ]
  },
  {
   "cell_type": "code",
   "execution_count": 8,
   "metadata": {},
   "outputs": [],
   "source": [
    "# Save data\n",
    "\n",
    "with open('output/tweepy_df.pickle', 'wb') as handle:\n",
    "    pickle.dump(tweepy_df, handle, protocol = pickle.HIGHEST_PROTOCOL)"
   ]
  },
  {
   "cell_type": "code",
   "execution_count": 9,
   "metadata": {},
   "outputs": [],
   "source": [
    "with open('output/tweepy_df_subset_no_retweets.pickle', 'wb') as handle:\n",
    "    pickle.dump(tweepy_df_subset, handle, protocol = pickle.HIGHEST_PROTOCOL)"
   ]
  }
 ],
 "metadata": {
  "kernelspec": {
   "display_name": "Python 3",
   "language": "python",
   "name": "python3"
  },
  "language_info": {
   "codemirror_mode": {
    "name": "ipython",
    "version": 3
   },
   "file_extension": ".py",
   "mimetype": "text/x-python",
   "name": "python",
   "nbconvert_exporter": "python",
   "pygments_lexer": "ipython3",
   "version": "3.7.6"
  }
 },
 "nbformat": 4,
 "nbformat_minor": 4
}

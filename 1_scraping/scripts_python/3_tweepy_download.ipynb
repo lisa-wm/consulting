{
 "cells": [
  {
   "cell_type": "markdown",
   "metadata": {},
   "source": [
    "# Scraping MPs' tweets"
   ]
  },
  {
   "cell_type": "markdown",
   "metadata": {},
   "source": [
    "### Prerequisites"
   ]
  },
  {
   "cell_type": "code",
   "execution_count": 1,
   "metadata": {},
   "outputs": [],
   "source": [
    "# Libraries\n",
    "\n",
    "import pandas as pd\n",
    "import os\n",
    "import pickle\n",
    "import tweepy_lisa as th\n",
    "import ctypes\n",
    "import math\n",
    "import numpy as np\n",
    "import tweepy"
   ]
  },
  {
   "cell_type": "code",
   "execution_count": 2,
   "metadata": {},
   "outputs": [
    {
     "data": {
      "text/plain": [
       "'C:\\\\Users\\\\wimme\\\\Documents\\\\1_uni\\\\1_master\\\\consulting\\\\projects\\\\consulting\\\\1_scraping'"
      ]
     },
     "execution_count": 2,
     "metadata": {},
     "output_type": "execute_result"
    }
   ],
   "source": [
    "# Define user path (comment out the irrelevant one) and set working directory\n",
    "\n",
    "my_path = 'C:\\\\Users\\\\wimme\\\\Documents\\\\1_uni\\\\1_master\\\\consulting\\\\projects\\\\consulting\\\\1_scraping'\n",
    "# my_path = 'Asmiks path'\n",
    "os.chdir(my_path)\n",
    "os.path.abspath(os.getcwd())"
   ]
  },
  {
   "cell_type": "markdown",
   "metadata": {},
   "source": [
    "### Preparation"
   ]
  },
  {
   "cell_type": "code",
   "execution_count": 3,
   "metadata": {},
   "outputs": [],
   "source": [
    "# Import Bundestag data\n",
    "\n",
    "with open('output/abg_twitter_df.pickle', 'rb') as handle:\n",
    "    abg_twitter_df = pickle.load(handle)\n",
    "    \n",
    "# Select name, party and username for each member and store in table called twitter_account\n",
    "\n",
    "names = abg_twitter_df['name_matching']\n",
    "twitter_usernames = abg_twitter_df['twitter']\n",
    "twitter_usernames.rename('username', inplace = True)\n",
    "twitter_account = pd.concat([names, twitter_usernames], axis = 1)\n",
    "\n",
    "# Drop usernames that are nan or empty (i.e. parliamentarians with no account)\n",
    "\n",
    "usr_nan = twitter_account.username.isna()\n",
    "twitter_account = twitter_account[~(usr_nan)]\n",
    "twitter_account.reset_index(drop = True, inplace = True)\n"
   ]
  },
  {
   "cell_type": "markdown",
   "metadata": {},
   "source": [
    "### Scraping"
   ]
  },
  {
   "cell_type": "code",
   "execution_count": 4,
   "metadata": {},
   "outputs": [],
   "source": [
    "tweepy_df = pd.DataFrame()"
   ]
  },
  {
   "cell_type": "code",
   "execution_count": null,
   "metadata": {},
   "outputs": [
    {
     "name": "stdout",
     "output_type": "stream",
     "text": [
      "Data for user doris_achelwilm cannot be downloaded\n",
      "Data for user Manfredbehrens cannot be downloaded\n",
      "Data for user BystronAfD cannot be downloaded\n",
      "Data for user EspendillerM cannot be downloaded\n",
      "Data for user FechnerJohannes cannot be downloaded\n",
      "Data for user UweFe cannot be downloaded\n",
      "Data for user friedhoff_afd cannot be downloaded\n",
      "Data for user HPFriedrichCSU cannot be downloaded\n",
      "Data for user manfred_grund cannot be downloaded\n",
      "Data for user FGuentzler cannot be downloaded\n",
      "Data for user ChristianHaase6 cannot be downloaded\n",
      "Data for user frankheinrich cannot be downloaded\n",
      "Data for user GabiHillerOhm cannot be downloaded\n",
      "Data for user HilseMdb cannot be downloaded\n",
      "Data for user fjunge cannot be downloaded\n",
      "Data for user AchimKessler cannot be downloaded\n",
      "Data for user koobmar cannot be downloaded\n",
      "Data for user BabettesChefin cannot be downloaded\n",
      "Data for user UlrichLange cannot be downloaded\n",
      "Data for user Team_GLoetzsch cannot be downloaded\n",
      "Data for user thlutze cannot be downloaded\n",
      "Data for user AMattfeldt cannot be downloaded\n",
      "Data for user SiemtjeMoeller cannot be downloaded\n",
      "Data for user MdBMonstadt cannot be downloaded\n",
      "Data for user WilfriedOellers cannot be downloaded\n",
      "Data for user #! cannot be downloaded\n",
      "Data for user ProtschkaStepha cannot be downloaded\n",
      "Data for user martinrabanus cannot be downloaded\n",
      "Data for user ManuelaRottmann cannot be downloaded\n",
      "Data for user SchaeferCDU cannot be downloaded\n",
      "Data for user UdoSchiefner cannot be downloaded\n",
      "Data for user swenschulz cannot be downloaded\n",
      "Data for user SpringerRen cannot be downloaded\n",
      "Data for user #! cannot be downloaded\n",
      "Data for user MdBMarkusUhl cannot be downloaded\n"
     ]
    }
   ],
   "source": [
    "# Download most recent tweets using tweepy (at most 3200 tweets per user)\n",
    "\n",
    "for username in twitter_account['username']:\n",
    "    tweepy_df = pd.concat([tweepy_df, th.download_tweets_tweepy_mod(username)])\n",
    "    \n",
    "tweepy_df = twitter_account.merge(tweepy_df, on = 'username')\n",
    "\n",
    "ctypes.windll.user32.MessageBoxW(0, \"Twitter data successfully scraped\", \"Progress Report\")"
   ]
  },
  {
   "cell_type": "code",
   "execution_count": 1,
   "metadata": {},
   "outputs": [
    {
     "ename": "NameError",
     "evalue": "name 'tweepy_df' is not defined",
     "output_type": "error",
     "traceback": [
      "\u001b[1;31m---------------------------------------------------------------------------\u001b[0m",
      "\u001b[1;31mNameError\u001b[0m                                 Traceback (most recent call last)",
      "\u001b[1;32m<ipython-input-1-a4d9922c6a85>\u001b[0m in \u001b[0;36m<module>\u001b[1;34m\u001b[0m\n\u001b[1;32m----> 1\u001b[1;33m \u001b[0mtweepy_df\u001b[0m\u001b[1;33m.\u001b[0m\u001b[0mhead\u001b[0m\u001b[1;33m(\u001b[0m\u001b[1;33m)\u001b[0m\u001b[1;33m\u001b[0m\u001b[1;33m\u001b[0m\u001b[0m\n\u001b[0m",
      "\u001b[1;31mNameError\u001b[0m: name 'tweepy_df' is not defined"
     ]
    }
   ],
   "source": [
    "tweepy_df.head()"
   ]
  },
  {
   "cell_type": "markdown",
   "metadata": {},
   "source": [
    "### Saving"
   ]
  },
  {
   "cell_type": "code",
   "execution_count": 15,
   "metadata": {},
   "outputs": [],
   "source": [
    "# Create random subset of tweepy_df to have smaller data to try methods on\n",
    "\n",
    "tweepy_df_subset = tweepy_df.sample(frac = 0.1, replace = False, random_state = 1)"
   ]
  },
  {
   "cell_type": "code",
   "execution_count": 16,
   "metadata": {},
   "outputs": [],
   "source": [
    "# Save data\n",
    "\n",
    "with open('output/tweepy_df.pickle', 'wb') as handle:\n",
    "    pickle.dump(tweepy_df, handle, protocol = pickle.HIGHEST_PROTOCOL)"
   ]
  },
  {
   "cell_type": "code",
   "execution_count": 17,
   "metadata": {},
   "outputs": [],
   "source": [
    "with open('output/tweepy_df_subset_no_retweets.pickle', 'wb') as handle:\n",
    "    pickle.dump(tweepy_df_subset, handle, protocol = pickle.HIGHEST_PROTOCOL)"
   ]
  }
 ],
 "metadata": {
  "kernelspec": {
   "display_name": "Python 3",
   "language": "python",
   "name": "python3"
  },
  "language_info": {
   "codemirror_mode": {
    "name": "ipython",
    "version": 3
   },
   "file_extension": ".py",
   "mimetype": "text/x-python",
   "name": "python",
   "nbconvert_exporter": "python",
   "pygments_lexer": "ipython3",
   "version": "3.7.6"
  }
 },
 "nbformat": 4,
 "nbformat_minor": 4
}

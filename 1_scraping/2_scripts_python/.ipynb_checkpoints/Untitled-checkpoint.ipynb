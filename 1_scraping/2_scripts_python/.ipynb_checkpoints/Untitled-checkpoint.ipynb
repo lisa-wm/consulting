{
 "cells": [
  {
   "cell_type": "code",
   "execution_count": 1,
   "metadata": {},
   "outputs": [],
   "source": [
    "import math\n",
    "import numpy as np\n",
    "import tweepy\n",
    "import pandas as pd"
   ]
  },
  {
   "cell_type": "code",
   "execution_count": 2,
   "metadata": {},
   "outputs": [],
   "source": [
    "my_keys = {\n",
    "    'consumer_key': 'o0g3JVWSKzRYv9dQp2SEPdjXp',\n",
    "    'consumer_secret': 'AyvUIFzB82w3ZetyTXf1PbHiSxK7CgdcJo0D5jfKAoFlUuP0iH',\n",
    "    'access_token_key': '1302924762914660354-7ydX1jUVSnscL60hhl83biPGNVeQoH',\n",
    "    'access_token_secret': '9NqtnWj2q8uLuQkLMWdamJyIEb56hlGJOVgrydzoakorT'\n",
    "}"
   ]
  },
  {
   "cell_type": "code",
   "execution_count": 3,
   "metadata": {},
   "outputs": [],
   "source": [
    "twitter_keys = my_keys\n",
    "\n",
    "# Set up access to API\n",
    "\n",
    "auth = tweepy.OAuthHandler(twitter_keys['consumer_key'], twitter_keys['consumer_secret'])\n",
    "auth.set_access_token(twitter_keys['access_token_key'], twitter_keys['access_token_secret'])\n",
    "api = tweepy.API(auth, wait_on_rate_limit = True)"
   ]
  },
  {
   "cell_type": "code",
   "execution_count": 4,
   "metadata": {},
   "outputs": [],
   "source": [
    "def is_retweet(x):\n",
    "    try:\n",
    "        res = not(math.isnan(x))\n",
    "    except:\n",
    "        res = True\n",
    "    return(res)"
   ]
  },
  {
   "cell_type": "code",
   "execution_count": 6,
   "metadata": {},
   "outputs": [],
   "source": [
    "alltweets = []\n",
    "# Specify relevant columns\n",
    "colnames = [\n",
    "    'created_at', \n",
    "    'full_text', \n",
    "    'retweet_count', \n",
    "    'favorite_count', \n",
    "    'reply_count',\n",
    "    'followers_count', \n",
    "    'location'\n",
    "    #, \n",
    "    #'hashtags',\n",
    "    #'mentions'\n",
    "]"
   ]
  },
  {
   "cell_type": "code",
   "execution_count": 7,
   "metadata": {},
   "outputs": [],
   "source": [
    "username = 'mvabercron'"
   ]
  },
  {
   "cell_type": "code",
   "execution_count": 8,
   "metadata": {},
   "outputs": [],
   "source": [
    "new_tweets = api.user_timeline(screen_name = username, count = 200, tweet_mode = \"extended\")\t"
   ]
  },
  {
   "cell_type": "code",
   "execution_count": 10,
   "metadata": {},
   "outputs": [],
   "source": [
    "alltweets.extend(new_tweets)\n",
    "# Save the id of the oldest tweet less one\n",
    "oldest = alltweets[-1].id - 1"
   ]
  },
  {
   "cell_type": "code",
   "execution_count": 11,
   "metadata": {},
   "outputs": [],
   "source": [
    "while len(new_tweets) > 0:\n",
    "\n",
    "    # All subsequent requests use the max_id param to prevent duplicates\n",
    "    new_tweets = api.user_timeline(screen_name = username,\n",
    "                                   count = 200,\n",
    "                                   max_id = oldest,\n",
    "                                   tweet_mode = \"extended\")\n",
    "    # Save most recent tweets\n",
    "    alltweets.extend(new_tweets)\n",
    "    oldest = alltweets[-1].id - 1"
   ]
  },
  {
   "cell_type": "code",
   "execution_count": 12,
   "metadata": {},
   "outputs": [],
   "source": [
    "outtweets = pd.DataFrame([tweet.__dict__ for tweet in alltweets])"
   ]
  },
  {
   "cell_type": "code",
   "execution_count": 14,
   "metadata": {},
   "outputs": [
    {
     "ename": "NameError",
     "evalue": "name 'is_rewteet' is not defined",
     "output_type": "error",
     "traceback": [
      "\u001b[1;31m---------------------------------------------------------------------------\u001b[0m",
      "\u001b[1;31mNameError\u001b[0m                                 Traceback (most recent call last)",
      "\u001b[1;32m<ipython-input-14-21f05d17cb73>\u001b[0m in \u001b[0;36m<module>\u001b[1;34m\u001b[0m\n\u001b[1;32m----> 1\u001b[1;33m \u001b[0mouttweets\u001b[0m\u001b[1;33m[\u001b[0m\u001b[1;34m'is_retweet'\u001b[0m\u001b[1;33m]\u001b[0m \u001b[1;33m=\u001b[0m \u001b[0mouttweets\u001b[0m\u001b[1;33m[\u001b[0m\u001b[1;34m'retweeted_status'\u001b[0m\u001b[1;33m]\u001b[0m\u001b[1;33m.\u001b[0m\u001b[0mapply\u001b[0m\u001b[1;33m(\u001b[0m\u001b[0mis_rewteet\u001b[0m\u001b[1;33m)\u001b[0m\u001b[1;33m\u001b[0m\u001b[1;33m\u001b[0m\u001b[0m\n\u001b[0m",
      "\u001b[1;31mNameError\u001b[0m: name 'is_rewteet' is not defined"
     ]
    }
   ],
   "source": [
    "outtweets['is_retweet'] = outtweets['retweeted_status'].apply(is_retweet)"
   ]
  },
  {
   "cell_type": "code",
   "execution_count": null,
   "metadata": {},
   "outputs": [],
   "source": [
    "\n",
    "                \n",
    "# Retrieve other metrics\n",
    "outtweets['followers_count'] = [x.followers_count for x in outtweets['author']]\n",
    "outtweets['location'] = [x.location for x in outtweets['author']]\n",
    "# outtweets['hashtags'] = outtweets['entities'].apply(get_hashtags)\n",
    "# outtweets['mentions'] = outtweets['entities'].apply(get_mentions)\n",
    "outtweets = outtweets[~ outtweets['is_retweet']]\n",
    "outtweets = outtweets[colnames]"
   ]
  },
  {
   "cell_type": "code",
   "execution_count": null,
   "metadata": {},
   "outputs": [],
   "source": [
    "\n",
    "\n",
    "\n",
    "\n",
    "\n",
    "# Helper function to check whether tweet is retweet\n",
    "\n",
    "\n",
    "# Helper function to retrieve hashtags\n",
    "def get_hashtags(x):\n",
    "    hashtags_dict = x['hashtags']\n",
    "    hashtags_text = [x['text'] for x in hashtags_dict]\n",
    "    return(hashtags_text)\n",
    "\n",
    "# Helper function to retrieve user mentions\n",
    "def get_mentions(x):\n",
    "    mentions_dict = x['user_mentions']\n",
    "    mentions_text = [x['screen_name'] for x in mentions_dict]\n",
    "    return(mentions_text)\n",
    "    \n",
    "# Function to download tweets for a specific user with Tweepy\n",
    "\n",
    "def download_tweets_tweepy_mod(username):\n",
    "    \n",
    "    # Initialize a list to hold all the tweepy Tweets\n",
    "    alltweets = []\n",
    "    # Specify relevant columns\n",
    "    colnames = [\n",
    "        'created_at', \n",
    "        'full_text', \n",
    "        'retweet_count', \n",
    "        'favorite_count', \n",
    "        'reply_count',\n",
    "        'followers_count', \n",
    "        'location'\n",
    "        #, \n",
    "        #'hashtags',\n",
    "        #'mentions'\n",
    "    ]\n",
    "    \n",
    "    try:\n",
    "        \n",
    "        # Make initial request for most recent tweets (200 is the maximum allowed count)\n",
    "        new_tweets = api.user_timeline(screen_name = username, count = 200, tweet_mode = \"extended\")\t\n",
    "        # Save most recent tweets\n",
    "        alltweets.extend(new_tweets)\n",
    "        # Save the id of the oldest tweet less one\n",
    "        oldest = alltweets[-1].id - 1\n",
    "        \n",
    "        # Keep grabbing tweets until there are no tweets left to grab\n",
    "        while len(new_tweets) > 0:\n",
    "            \n",
    "            # All subsequent requests use the max_id param to prevent duplicates\n",
    "            new_tweets = api.user_timeline(screen_name = username,\n",
    "                                           count = 200,\n",
    "                                           max_id = oldest,\n",
    "                                           tweet_mode = \"extended\")\n",
    "            # Save most recent tweets\n",
    "            alltweets.extend(new_tweets)\n",
    "            oldest = alltweets[-1].id - 1\n",
    "            \n",
    "        # Convert output to pandas DataFrame\n",
    "        outtweets = pd.DataFrame([tweet.__dict__ for tweet in alltweets])\n",
    "        \n",
    "        # Check whether tweet is retweet\n",
    "        outtweets['is_retweet'] = outtweets['retweeted_status'].apply(is_rewteet)\n",
    "                \n",
    "        # Retrieve other metrics\n",
    "        outtweets['followers_count'] = [x.followers_count for x in outtweets['author']]\n",
    "        outtweets['location'] = [x.location for x in outtweets['author']]\n",
    "        # outtweets['hashtags'] = outtweets['entities'].apply(get_hashtags)\n",
    "        # outtweets['mentions'] = outtweets['entities'].apply(get_mentions)\n",
    "        outtweets = outtweets[~ outtweets['is_retweet']]\n",
    "        outtweets = outtweets[colnames]\n",
    "        \n",
    "        # Add boolean column for availability (True)\n",
    "        outtweets.insert(0, 'available', True)\n",
    "        \n",
    "    except:\n",
    "\n",
    "        print('Data for user %s cannot be downloaded' %username)\n",
    "        outtweets = pd.DataFrame(np.nan, index = [0], columns = colnames)\n",
    "        outtweets.insert(0, 'available', False)\n",
    "        \n",
    "    # Add column with username\n",
    "    outtweets.insert(0, 'username', username)\n",
    "    return(outtweets)"
   ]
  }
 ],
 "metadata": {
  "kernelspec": {
   "display_name": "Python 3",
   "language": "python",
   "name": "python3"
  },
  "language_info": {
   "codemirror_mode": {
    "name": "ipython",
    "version": 3
   },
   "file_extension": ".py",
   "mimetype": "text/x-python",
   "name": "python",
   "nbconvert_exporter": "python",
   "pygments_lexer": "ipython3",
   "version": "3.7.6"
  }
 },
 "nbformat": 4,
 "nbformat_minor": 4
}

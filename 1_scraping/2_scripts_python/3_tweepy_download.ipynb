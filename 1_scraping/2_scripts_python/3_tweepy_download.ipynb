{
 "cells": [
  {
   "cell_type": "markdown",
   "metadata": {},
   "source": [
    "# Scraping MPs' tweets"
   ]
  },
  {
   "cell_type": "markdown",
   "metadata": {},
   "source": [
    "### Prerequisites"
   ]
  },
  {
   "cell_type": "code",
   "execution_count": 2,
   "metadata": {},
   "outputs": [],
   "source": [
    "# Libraries\n",
    "\n",
    "import pandas as pd # data wrangling\n",
    "import numpy as np # math operations\n",
    "import math # math operations\n",
    "import os # directories\n",
    "import time # system time\n",
    "import random # random number generation\n",
    "import pickle # data compression\n",
    "import re # regular expressions\n",
    "import unidecode # regular expressions\n",
    "\n",
    "import urllib.request # scraping\n",
    "import requests # scraping\n",
    "from bs4 import BeautifulSoup # scraping\n",
    "import ctypes # interface to C\n",
    "import tweepy # twitter \n",
    "\n",
    "import sys # system limit (preventing infinite running)\n",
    "sys.setrecursionlimit(100000)\n",
    "\n",
    "import selenium # chrome driver\n",
    "from selenium import webdriver # chrome driver\n",
    "import selenium.common.exceptions as selexcept # exception handling"
   ]
  },
  {
   "cell_type": "markdown",
   "metadata": {},
   "source": [
    "### Preparation"
   ]
  },
  {
   "cell_type": "code",
   "execution_count": 3,
   "metadata": {},
   "outputs": [],
   "source": [
    "# Import Bundestag data\n",
    "\n",
    "with open('../3_output/abg_twitter_df.pickle', 'rb') as handle:\n",
    "    abg_twitter_df = pickle.load(handle)\n",
    "    \n",
    "# Select name, party and username for each member and store in table called twitter_account\n",
    "\n",
    "names = abg_twitter_df['name_matching']\n",
    "twitter_usernames = abg_twitter_df['twitter']\n",
    "twitter_usernames.rename('username', inplace=True)\n",
    "twitter_account = pd.concat([names, twitter_usernames], axis=1)\n",
    "\n",
    "# Drop usernames that are nan or empty (i.e. parliamentarians with no account)\n",
    "\n",
    "mask = twitter_account.username.notnull()\n",
    "twitter_account = twitter_account[mask]\n",
    "twitter_account.reset_index(drop=True, inplace=True)"
   ]
  },
  {
   "cell_type": "markdown",
   "metadata": {},
   "source": [
    "### Scraping"
   ]
  },
  {
   "cell_type": "code",
   "execution_count": 10,
   "metadata": {},
   "outputs": [],
   "source": [
    "# Function to download tweets for a specific user with Tweepy\n",
    "\n",
    "def download_tweets_tweepy_mod(username):\n",
    "    \n",
    "    # Helper function to check whether tweet is retweet\n",
    "    \n",
    "    def is_retweet(x):\n",
    "        try:\n",
    "            res = not(math.isnan(x))\n",
    "        except:\n",
    "            res = True\n",
    "        return(res)\n",
    "\n",
    "    # Helper function to retrieve hashtags\n",
    "    \n",
    "    def get_hashtags(x):\n",
    "        hashtags_dict = x['hashtags']\n",
    "        hashtags_text = [x['text'] for x in hashtags_dict]\n",
    "        return(hashtags_text)\n",
    "\n",
    "    # Helper function to retrieve user mentions\n",
    "    \n",
    "    def get_mentions(x):\n",
    "        mentions_dict = x['user_mentions']\n",
    "        mentions_text = [x['screen_name'] for x in mentions_dict]\n",
    "        return(mentions_text)\n",
    "    \n",
    "    # Initialize a list to hold all the tweepy Tweets\n",
    "    \n",
    "    alltweets = []\n",
    "    \n",
    "    # Specify relevant columns\n",
    "    \n",
    "    colnames = [\n",
    "        'created_at', \n",
    "        'full_text', \n",
    "        'retweet_count', \n",
    "        'favorite_count', \n",
    "        'followers_count', \n",
    "        'location'\n",
    "    ]\n",
    "    \n",
    "    try:\n",
    "        \n",
    "        # Make initial request for most recent tweets (200 is the maximum allowed count)\n",
    "        \n",
    "        new_tweets = api.user_timeline(\n",
    "            screen_name=username, \n",
    "            count=200,\n",
    "            tweet_mode=\"extended\")\t\n",
    "        \n",
    "        # Save most recent tweets\n",
    "        \n",
    "        alltweets.extend(new_tweets)\n",
    "        \n",
    "        # Save the id of the oldest tweet less one\n",
    "        \n",
    "        oldest = alltweets[-1].id - 1\n",
    "        \n",
    "        # Keep grabbing tweets until there are no tweets left to grab\n",
    "        \n",
    "        while len(new_tweets) > 0:\n",
    "            \n",
    "            # All subsequent requests use the max_id param to prevent duplicates\n",
    "            \n",
    "            new_tweets = api.user_timeline(\n",
    "                screen_name=username,\n",
    "                count=200,\n",
    "                max_id=oldest,\n",
    "                tweet_mode='extended')\n",
    "            \n",
    "            # Save most recent tweets\n",
    "            \n",
    "            alltweets.extend(new_tweets)\n",
    "            oldest = alltweets[-1].id - 1\n",
    "            \n",
    "        # Convert output to pandas DataFrame\n",
    "        \n",
    "        outtweets = pd.DataFrame([tweet.__dict__ for tweet in alltweets])\n",
    "        \n",
    "        # Check whether tweet is retweet\n",
    "        \n",
    "        outtweets['is_retweet'] = outtweets['retweeted_status'].apply(is_retweet)\n",
    "                \n",
    "        # Retrieve other metrics\n",
    "        \n",
    "        outtweets['followers_count'] = [x.followers_count for x in outtweets['author']]\n",
    "        outtweets['location'] = [x.location for x in outtweets['author']]\n",
    "        outtweets = outtweets[~ outtweets['is_retweet']]\n",
    "        outtweets = outtweets[colnames]\n",
    "        \n",
    "        # Add boolean column for availability\n",
    "        \n",
    "        outtweets.insert(0, 'available', True)\n",
    "        \n",
    "    except:\n",
    "\n",
    "        print('Data for user %s cannot be downloaded' %username)\n",
    "        outtweets = pd.DataFrame(np.nan, index=[0], columns=colnames)\n",
    "        outtweets.insert(0, 'available', False)\n",
    "        \n",
    "    # Add column with username\n",
    "    \n",
    "    outtweets.insert(0, 'username', username)\n",
    "    return(outtweets)\n"
   ]
  },
  {
   "cell_type": "code",
   "execution_count": 11,
   "metadata": {},
   "outputs": [],
   "source": [
    "tweepy_df = pd.DataFrame()"
   ]
  },
  {
   "cell_type": "code",
   "execution_count": 13,
   "metadata": {},
   "outputs": [],
   "source": [
    "my_keys = {\n",
    "    'consumer_key': 'o0g3JVWSKzRYv9dQp2SEPdjXp',\n",
    "    'consumer_secret': 'AyvUIFzB82w3ZetyTXf1PbHiSxK7CgdcJo0D5jfKAoFlUuP0iH',\n",
    "    'access_token_key': '1302924762914660354-7ydX1jUVSnscL60hhl83biPGNVeQoH',\n",
    "    'access_token_secret': '9NqtnWj2q8uLuQkLMWdamJyIEb56hlGJOVgrydzoakorT'}\n",
    "\n",
    "# Set up access to API\n",
    "\n",
    "auth = tweepy.OAuthHandler(my_keys['consumer_key'], my_keys['consumer_secret'])\n",
    "auth.set_access_token(my_keys['access_token_key'], my_keys['access_token_secret'])\n",
    "api = tweepy.API(auth, wait_on_rate_limit=True)"
   ]
  },
  {
   "cell_type": "code",
   "execution_count": null,
   "metadata": {
    "scrolled": true
   },
   "outputs": [
    {
     "name": "stdout",
     "output_type": "stream",
     "text": [
      "Data for user doris_achelwilm cannot be downloaded\n",
      "Data for user akbulutgokay cannot be downloaded\n",
      "Data for user Manfredbehrens cannot be downloaded\n",
      "Data for user MWBirkwald cannot be downloaded\n",
      "Data for user BystronAfD cannot be downloaded\n"
     ]
    }
   ],
   "source": [
    "# Download most recent tweets using tweepy (at most 3200 tweets per user)\n",
    "\n",
    "for username in twitter_account['username']:\n",
    "    tweepy_df=pd.concat([tweepy_df, download_tweets_tweepy_mod(username)])\n",
    "    \n",
    "tweepy_df=twitter_account.merge(tweepy_df, on='username')\n",
    "\n",
    "ctypes.windll.user32.MessageBoxW(0, \"Twitter data successfully scraped\", \"Progress Report\")"
   ]
  },
  {
   "cell_type": "code",
   "execution_count": 1,
   "metadata": {
    "collapsed": true
   },
   "outputs": [
    {
     "ename": "NameError",
     "evalue": "name 'tweepy_df' is not defined",
     "output_type": "error",
     "traceback": [
      "\u001b[1;31m---------------------------------------------------------------------------\u001b[0m",
      "\u001b[1;31mNameError\u001b[0m                                 Traceback (most recent call last)",
      "\u001b[1;32m<ipython-input-1-b8e7baaed481>\u001b[0m in \u001b[0;36m<module>\u001b[1;34m\u001b[0m\n\u001b[1;32m----> 1\u001b[1;33m \u001b[0mtweepy_df\u001b[0m\u001b[1;33m.\u001b[0m\u001b[0mhead\u001b[0m\u001b[1;33m(\u001b[0m\u001b[1;36m50\u001b[0m\u001b[1;33m)\u001b[0m\u001b[1;33m\u001b[0m\u001b[1;33m\u001b[0m\u001b[0m\n\u001b[0m",
      "\u001b[1;31mNameError\u001b[0m: name 'tweepy_df' is not defined"
     ]
    }
   ],
   "source": [
    "tweepy_df.head(50)"
   ]
  },
  {
   "cell_type": "markdown",
   "metadata": {},
   "source": [
    "### Saving"
   ]
  },
  {
   "cell_type": "code",
   "execution_count": 11,
   "metadata": {},
   "outputs": [],
   "source": [
    "# Create random subset of tweepy_df to have smaller data to try methods on\n",
    "\n",
    "tweepy_df_subset = tweepy_df.sample(frac=0.1, replace=False, random_state=1)"
   ]
  },
  {
   "cell_type": "code",
   "execution_count": 8,
   "metadata": {},
   "outputs": [],
   "source": [
    "# Save output\n",
    "\n",
    "with open('../3_output/tweepy_df.pickle', 'wb') as handle:\n",
    "    pickle.dump(tweepy_df, handle, protocol=pickle.HIGHEST_PROTOCOL)"
   ]
  },
  {
   "cell_type": "code",
   "execution_count": 12,
   "metadata": {},
   "outputs": [],
   "source": [
    "with open('../3_output/tweepy_df_subset_no_retweets.pickle', 'wb') as handle:\n",
    "    pickle.dump(tweepy_df_subset, handle, protocol=pickle.HIGHEST_PROTOCOL)"
   ]
  }
 ],
 "metadata": {
  "kernelspec": {
   "display_name": "Python 3",
   "language": "python",
   "name": "python3"
  },
  "language_info": {
   "codemirror_mode": {
    "name": "ipython",
    "version": 3
   },
   "file_extension": ".py",
   "mimetype": "text/x-python",
   "name": "python",
   "nbconvert_exporter": "python",
   "pygments_lexer": "ipython3",
   "version": "3.7.6"
  }
 },
 "nbformat": 4,
 "nbformat_minor": 4
}

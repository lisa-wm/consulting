{
 "cells": [
  {
   "cell_type": "code",
   "execution_count": 1,
   "metadata": {},
   "outputs": [],
   "source": [
    "import pandas as pd\n",
    "import os\n",
    "import pickle\n",
    "import tweepy_helpers as th"
   ]
  },
  {
   "cell_type": "code",
   "execution_count": 2,
   "metadata": {},
   "outputs": [
    {
     "data": {
      "text/plain": [
       "'C:\\\\Users\\\\Simon\\\\OneDrive\\\\Uni\\\\LMU\\\\SS 2020\\\\Statistisches Consulting\\\\Bundestag-MP-Analyse\\\\data\\\\web_scraping'"
      ]
     },
     "execution_count": 2,
     "metadata": {},
     "output_type": "execute_result"
    }
   ],
   "source": [
    "# set up working directory\n",
    "os.path.abspath(os.getcwd()) # initial working directory (should be equal to source file directory if using Jupyter Notebook)\n",
    "os.chdir('../../data/web_scraping') # change to directory where all data files are stored\n",
    "# check working directory\n",
    "os.path.abspath(os.getcwd())"
   ]
  },
  {
   "cell_type": "code",
   "execution_count": 3,
   "metadata": {},
   "outputs": [],
   "source": [
    "# import Bundestag data\n",
    "with open('abg_df.pickle', 'rb') as handle:\n",
    "    bt_data = pickle.load(handle)\n",
    "    \n",
    "# select name and username for each member and store in table called twitter_account\n",
    "names = bt_data['Name']\n",
    "twitter_usernames = bt_data['Twitter']\n",
    "names.rename(\"name\", inplace = True)\n",
    "twitter_usernames.rename(\"username\", inplace = True)\n",
    "twitter_account = pd.concat([names, twitter_usernames], axis = 1)\n",
    "\n",
    "# drop usernames that are nan or empty (i.e. parliamentarians with no account)\n",
    "usr_nan = twitter_account.username.isna()\n",
    "usr_empty = twitter_account.username == ''\n",
    "twitter_account = twitter_account[~(usr_nan | usr_empty)]\n",
    "twitter_account.reset_index(drop = True, inplace = True)"
   ]
  },
  {
   "cell_type": "code",
   "execution_count": null,
   "metadata": {},
   "outputs": [],
   "source": [
    "# download most recent tweets using tweepy (at most 3200 tweets per user)\n",
    "tweepy_df = pd.DataFrame()\n",
    "for username in twitter_account['username']:\n",
    "    tweepy_df = pd.concat([tweepy_df, th.download_tweets_tweepy(username)])\n",
    "# add column 'name'\n",
    "tweepy_df = twitter_account.merge(tweepy_df, on = 'username')\n",
    "\n",
    "# save data\n",
    "with open('tweepy_df.pickle', 'wb') as handle:\n",
    "    pickle.dump(tweepy_df, handle, protocol=pickle.HIGHEST_PROTOCOL)"
   ]
  }
 ],
 "metadata": {
  "kernelspec": {
   "display_name": "Python 3",
   "language": "python",
   "name": "python3"
  },
  "language_info": {
   "codemirror_mode": {
    "name": "ipython",
    "version": 3
   },
   "file_extension": ".py",
   "mimetype": "text/x-python",
   "name": "python",
   "nbconvert_exporter": "python",
   "pygments_lexer": "ipython3",
   "version": "3.7.6"
  }
 },
 "nbformat": 4,
 "nbformat_minor": 4
}

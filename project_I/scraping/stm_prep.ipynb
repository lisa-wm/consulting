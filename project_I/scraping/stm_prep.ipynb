{
 "cells": [
  {
   "cell_type": "markdown",
   "metadata": {},
   "source": [
    "# Preparing existing dataframes to be used in R for topic analysis"
   ]
  },
  {
   "cell_type": "code",
   "execution_count": 6,
   "metadata": {},
   "outputs": [],
   "source": [
    "# import libraries\n",
    "import os\n",
    "import pickle\n",
    "import pandas as pd\n",
    "import re"
   ]
  },
  {
   "cell_type": "code",
   "execution_count": 7,
   "metadata": {},
   "outputs": [
    {
     "data": {
      "text/plain": [
       "'/Users/patrickschulze/Desktop/Consulting/Bundestag-MP-Analyse/data/web_scraping'"
      ]
     },
     "execution_count": 7,
     "metadata": {},
     "output_type": "execute_result"
    }
   ],
   "source": [
    "# set up working directory\n",
    "os.path.abspath(os.getcwd()) # initial working directory (should be equal to source file directory if using Jupyter Notebook)\n",
    "os.chdir('../../data/web_scraping') # change to directory where all data files are stored\n",
    "# check working directory\n",
    "os.path.abspath(os.getcwd())"
   ]
  },
  {
   "cell_type": "markdown",
   "metadata": {},
   "source": [
    "## 1. se_df"
   ]
  },
  {
   "cell_type": "code",
   "execution_count": 102,
   "metadata": {},
   "outputs": [],
   "source": [
    "with open('se_df.pickle', 'rb') as handle:\n",
    "    se_df = pickle.load(handle)"
   ]
  },
  {
   "cell_type": "code",
   "execution_count": 113,
   "metadata": {},
   "outputs": [],
   "source": [
    "# save as csv, not dropping any columns\n",
    "se_df.to_csv('se_df.csv', index = False)"
   ]
  },
  {
   "cell_type": "markdown",
   "metadata": {},
   "source": [
    "## 2. abg_df"
   ]
  },
  {
   "cell_type": "code",
   "execution_count": 104,
   "metadata": {},
   "outputs": [],
   "source": [
    "with open('abg_df.pickle', 'rb') as handle:\n",
    "    abg_df = pickle.load(handle)"
   ]
  },
  {
   "cell_type": "markdown",
   "metadata": {},
   "source": [
    "##### Soziale Medien"
   ]
  },
  {
   "cell_type": "code",
   "execution_count": 105,
   "metadata": {},
   "outputs": [],
   "source": [
    "# dropping column \"Soziale Medien\"\n",
    "abg_df = abg_df.drop('Soziale Medien', axis = 1)"
   ]
  },
  {
   "cell_type": "markdown",
   "metadata": {},
   "source": [
    "#### Ausschüsse"
   ]
  },
  {
   "cell_type": "code",
   "execution_count": 106,
   "metadata": {},
   "outputs": [],
   "source": [
    "# # get all keys of the \"Ausschuesse\"-dicts\n",
    "# set().union(*(d.keys() for d in abg_df['Ausschuesse']))"
   ]
  },
  {
   "cell_type": "code",
   "execution_count": 107,
   "metadata": {},
   "outputs": [],
   "source": [
    "def get_ausschuss_positions(ausschuss_dict):\n",
    "    ausschuesse_list = []\n",
    "    if 'Ordentliches Mitglied' in ausschuss_dict:\n",
    "        ausschuesse_list.append(ausschuss_dict['Ordentliches Mitglied'])\n",
    "    if 'Stellvertretendes Mitglied' in ausschuss_dict:\n",
    "        ausschuesse_list.append(ausschuss_dict['Stellvertretendes Mitglied'])\n",
    "    if 'Obmann' in ausschuss_dict:\n",
    "        ausschuesse_list.append(ausschuss_dict['Obmann'])\n",
    "    if 'Obfrau' in ausschuss_dict:\n",
    "        ausschuesse_list.append(ausschuss_dict['Obfrau'])\n",
    "    if 'Stellv. Vorsitzender' in ausschuss_dict:\n",
    "        ausschuesse_list.append(ausschuss_dict['Stellv. Vorsitzender'])\n",
    "    if 'Stellv. Vorsitzende' in ausschuss_dict:\n",
    "        ausschuesse_list.append(ausschuss_dict['Stellv. Vorsitzende'])\n",
    "    if 'Vorsitzender' in ausschuss_dict:\n",
    "        ausschuesse_list.append(ausschuss_dict['Vorsitzender'])\n",
    "    if 'Vorsitzende' in ausschuss_dict:\n",
    "        ausschuesse_list.append(ausschuss_dict['Vorsitzende'])\n",
    "    \n",
    "    positions = [item for sublist in ausschuesse_list for item in sublist] # flattening the list\n",
    "    return positions"
   ]
  },
  {
   "cell_type": "code",
   "execution_count": 108,
   "metadata": {},
   "outputs": [],
   "source": [
    "# creating a single column with all Ausschusse where the MdB is Mitglied, Obmann-/frau, or Vorsitz\n",
    "abg_df['Ausschusspositionen'] = abg_df['Ausschuesse'].apply(get_ausschuss_positions)"
   ]
  },
  {
   "cell_type": "markdown",
   "metadata": {},
   "source": [
    "#### Biografie"
   ]
  },
  {
   "cell_type": "code",
   "execution_count": 109,
   "metadata": {},
   "outputs": [],
   "source": [
    "def get_year_of_birth(biografie):\n",
    "    separators = re.compile('[,;]')\n",
    "    sentence = separators.split(biografie)[0]\n",
    "    sentence_stripped = \" \".join(sentence.split('.')) # strip \".\" from sentence\n",
    "    words = sentence_stripped.split(' ')\n",
    "    four_digit_numbers = []\n",
    "    for word in words:\n",
    "        if len(word) == 4 and word.isdigit():\n",
    "            four_digit_numbers.append(int(word))\n",
    "    if len(four_digit_numbers) == 1:\n",
    "        return four_digit_numbers[0]\n",
    "    else:\n",
    "        best_guess = min(four_digit_numbers)\n",
    "        return(best_guess)"
   ]
  },
  {
   "cell_type": "code",
   "execution_count": 110,
   "metadata": {},
   "outputs": [],
   "source": [
    "# extracting year of birth from biography\n",
    "abg_df['Geburtsjahr'] = abg_df['Biografie'].apply(get_year_of_birth)"
   ]
  },
  {
   "cell_type": "code",
   "execution_count": 111,
   "metadata": {},
   "outputs": [
    {
     "data": {
      "text/html": [
       "<div>\n",
       "<style scoped>\n",
       "    .dataframe tbody tr th:only-of-type {\n",
       "        vertical-align: middle;\n",
       "    }\n",
       "\n",
       "    .dataframe tbody tr th {\n",
       "        vertical-align: top;\n",
       "    }\n",
       "\n",
       "    .dataframe thead th {\n",
       "        text-align: right;\n",
       "    }\n",
       "</style>\n",
       "<table border=\"1\" class=\"dataframe\">\n",
       "  <thead>\n",
       "    <tr style=\"text-align: right;\">\n",
       "      <th></th>\n",
       "      <th>Name</th>\n",
       "      <th>Partei</th>\n",
       "      <th>Wahlart</th>\n",
       "      <th>Bundesland</th>\n",
       "      <th>Wahlkreis</th>\n",
       "      <th>Wahlkreis-Nr.</th>\n",
       "      <th>Ausschuesse</th>\n",
       "      <th>Biografie</th>\n",
       "      <th>Twitter</th>\n",
       "      <th>Ausschusspositionen</th>\n",
       "      <th>Geburtsjahr</th>\n",
       "    </tr>\n",
       "  </thead>\n",
       "  <tbody>\n",
       "    <tr>\n",
       "      <th>0</th>\n",
       "      <td>Abercron, Dr. Michael von</td>\n",
       "      <td>CDU/CSU</td>\n",
       "      <td>Direkt gewählt</td>\n",
       "      <td>Schleswig-Holstein</td>\n",
       "      <td>Pinneberg</td>\n",
       "      <td>7</td>\n",
       "      <td>{'Ordentliches Mitglied': ['Ausschuss für Ernä...</td>\n",
       "      <td>Geboren am 17. November 1952 in Ehlers...</td>\n",
       "      <td>mvabercron</td>\n",
       "      <td>[Ausschuss für Ernährung und Landwirtschaft, A...</td>\n",
       "      <td>1952</td>\n",
       "    </tr>\n",
       "    <tr>\n",
       "      <th>1</th>\n",
       "      <td>Achelwilm, Doris</td>\n",
       "      <td>Die Linke</td>\n",
       "      <td>Gewählt über Landesliste</td>\n",
       "      <td>Bremen</td>\n",
       "      <td></td>\n",
       "      <td></td>\n",
       "      <td>{'Ordentliches Mitglied': ['Ausschuss für Fami...</td>\n",
       "      <td>Geboren am 30. November 1976 in Thuine...</td>\n",
       "      <td>DorisAchelwilm</td>\n",
       "      <td>[Ausschuss für Familie, Senioren, Frauen und J...</td>\n",
       "      <td>1976</td>\n",
       "    </tr>\n",
       "    <tr>\n",
       "      <th>2</th>\n",
       "      <td>Aggelidis, Grigorios</td>\n",
       "      <td>FDP</td>\n",
       "      <td>Gewählt über Landesliste</td>\n",
       "      <td>Niedersachsen</td>\n",
       "      <td>Hannover-Land I</td>\n",
       "      <td>43</td>\n",
       "      <td>{'Ordentliches Mitglied': ['Kuratorium der Bun...</td>\n",
       "      <td>Geboren am 19. August 1965 in Hannover...</td>\n",
       "      <td>aggelidis_fdp</td>\n",
       "      <td>[Kuratorium der Bundeszentrale für politische ...</td>\n",
       "      <td>1965</td>\n",
       "    </tr>\n",
       "    <tr>\n",
       "      <th>3</th>\n",
       "      <td>Akbulut, Gökay</td>\n",
       "      <td>Die Linke</td>\n",
       "      <td>Gewählt über Landesliste</td>\n",
       "      <td>Baden-Württemberg</td>\n",
       "      <td>Mannheim</td>\n",
       "      <td>275</td>\n",
       "      <td>{'Ordentliches Mitglied': ['Schriftführer/in',...</td>\n",
       "      <td>Geboren 1982 in Pinarbasi/ Türkei; ledig.Juni ...</td>\n",
       "      <td>akbulutgokay</td>\n",
       "      <td>[Schriftführer/in, Ausschuss für Recht und Ver...</td>\n",
       "      <td>1982</td>\n",
       "    </tr>\n",
       "    <tr>\n",
       "      <th>4</th>\n",
       "      <td>Albani, Stephan</td>\n",
       "      <td>CDU/CSU</td>\n",
       "      <td>Gewählt über Landesliste</td>\n",
       "      <td>Niedersachsen</td>\n",
       "      <td>Oldenburg – Ammerland</td>\n",
       "      <td>27</td>\n",
       "      <td>{'Ordentliches Mitglied': ['Ausschuss für Bild...</td>\n",
       "      <td>Geboren am 3. Juni 1968 in Göttingen; verheira...</td>\n",
       "      <td></td>\n",
       "      <td>[Ausschuss für Bildung, Forschung und Technikf...</td>\n",
       "      <td>1968</td>\n",
       "    </tr>\n",
       "  </tbody>\n",
       "</table>\n",
       "</div>"
      ],
      "text/plain": [
       "                        Name     Partei                   Wahlart  \\\n",
       "0  Abercron, Dr. Michael von    CDU/CSU            Direkt gewählt   \n",
       "1           Achelwilm, Doris  Die Linke  Gewählt über Landesliste   \n",
       "2       Aggelidis, Grigorios        FDP  Gewählt über Landesliste   \n",
       "3             Akbulut, Gökay  Die Linke  Gewählt über Landesliste   \n",
       "4            Albani, Stephan    CDU/CSU  Gewählt über Landesliste   \n",
       "\n",
       "           Bundesland              Wahlkreis Wahlkreis-Nr.  \\\n",
       "0  Schleswig-Holstein              Pinneberg             7   \n",
       "1              Bremen                                        \n",
       "2       Niedersachsen        Hannover-Land I            43   \n",
       "3   Baden-Württemberg               Mannheim           275   \n",
       "4       Niedersachsen  Oldenburg – Ammerland            27   \n",
       "\n",
       "                                         Ausschuesse  \\\n",
       "0  {'Ordentliches Mitglied': ['Ausschuss für Ernä...   \n",
       "1  {'Ordentliches Mitglied': ['Ausschuss für Fami...   \n",
       "2  {'Ordentliches Mitglied': ['Kuratorium der Bun...   \n",
       "3  {'Ordentliches Mitglied': ['Schriftführer/in',...   \n",
       "4  {'Ordentliches Mitglied': ['Ausschuss für Bild...   \n",
       "\n",
       "                                           Biografie         Twitter  \\\n",
       "0          Geboren am 17. November 1952 in Ehlers...      mvabercron   \n",
       "1          Geboren am 30. November 1976 in Thuine...  DorisAchelwilm   \n",
       "2          Geboren am 19. August 1965 in Hannover...   aggelidis_fdp   \n",
       "3  Geboren 1982 in Pinarbasi/ Türkei; ledig.Juni ...    akbulutgokay   \n",
       "4  Geboren am 3. Juni 1968 in Göttingen; verheira...                   \n",
       "\n",
       "                                 Ausschusspositionen  Geburtsjahr  \n",
       "0  [Ausschuss für Ernährung und Landwirtschaft, A...         1952  \n",
       "1  [Ausschuss für Familie, Senioren, Frauen und J...         1976  \n",
       "2  [Kuratorium der Bundeszentrale für politische ...         1965  \n",
       "3  [Schriftführer/in, Ausschuss für Recht und Ver...         1982  \n",
       "4  [Ausschuss für Bildung, Forschung und Technikf...         1968  "
      ]
     },
     "execution_count": 111,
     "metadata": {},
     "output_type": "execute_result"
    }
   ],
   "source": [
    "abg_df.head()"
   ]
  },
  {
   "cell_type": "markdown",
   "metadata": {},
   "source": [
    "##### Saving as CSV"
   ]
  },
  {
   "cell_type": "code",
   "execution_count": 114,
   "metadata": {},
   "outputs": [],
   "source": [
    "abg_df.to_csv('abg_df.csv', index = False)"
   ]
  },
  {
   "cell_type": "markdown",
   "metadata": {},
   "source": [
    "## 3. tweepy_df"
   ]
  },
  {
   "cell_type": "markdown",
   "metadata": {},
   "source": [
    "We initially stored tweepy output as pickle file (compressed file format). To use it within R, however, we have to convert to csv. Note that this last piece of code should be run on a local machine because the resulting dataset, tweepy_df.csv, is very large (~5 GB). Therefore, only the pickle file is directly available in the data folder."
   ]
  },
  {
   "cell_type": "code",
   "execution_count": 8,
   "metadata": {},
   "outputs": [],
   "source": [
    "with open('tweepy_df.pickle', 'rb') as handle:\n",
    "    tweepy_df = pickle.load(handle)"
   ]
  },
  {
   "cell_type": "code",
   "execution_count": null,
   "metadata": {},
   "outputs": [],
   "source": [
    "tweepy_df.to_csv('tweepy_df.csv', index = False)"
   ]
  }
 ],
 "metadata": {
  "kernelspec": {
   "display_name": "Python 3",
   "language": "python",
   "name": "python3"
  },
  "language_info": {
   "codemirror_mode": {
    "name": "ipython",
    "version": 3
   },
   "file_extension": ".py",
   "mimetype": "text/x-python",
   "name": "python",
   "nbconvert_exporter": "python",
   "pygments_lexer": "ipython3",
   "version": "3.7.6"
  }
 },
 "nbformat": 4,
 "nbformat_minor": 4
}

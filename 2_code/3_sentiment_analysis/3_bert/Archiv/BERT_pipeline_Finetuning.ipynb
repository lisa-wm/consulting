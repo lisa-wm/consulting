{
 "cells": [
  {
   "cell_type": "code",
   "execution_count": 1,
   "metadata": {},
   "outputs": [
    {
     "ename": "OSError",
     "evalue": "[WinError 127] Die angegebene Prozedur wurde nicht gefunden. Error loading \"C:\\Users\\NALMPI\\anaconda3\\lib\\site-packages\\torch\\lib\\c10_cuda.dll\" or one of its dependencies.",
     "output_type": "error",
     "traceback": [
      "\u001b[1;31m---------------------------------------------------------------------------\u001b[0m",
      "\u001b[1;31mOSError\u001b[0m                                   Traceback (most recent call last)",
      "\u001b[1;32m<ipython-input-1-e4b4faf06a0c>\u001b[0m in \u001b[0;36m<module>\u001b[1;34m\u001b[0m\n\u001b[0;32m      4\u001b[0m \u001b[1;32mimport\u001b[0m \u001b[0mrandom\u001b[0m\u001b[1;33m\u001b[0m\u001b[1;33m\u001b[0m\u001b[0m\n\u001b[0;32m      5\u001b[0m \u001b[1;32mimport\u001b[0m \u001b[0mtime\u001b[0m  \u001b[1;31m# to time execution time\u001b[0m\u001b[1;33m\u001b[0m\u001b[1;33m\u001b[0m\u001b[0m\n\u001b[1;32m----> 6\u001b[1;33m \u001b[1;32mimport\u001b[0m \u001b[0mtorch\u001b[0m  \u001b[1;31m# ML lib. allows computation of tensors on GPUs\u001b[0m\u001b[1;33m\u001b[0m\u001b[1;33m\u001b[0m\u001b[0m\n\u001b[0m\u001b[0;32m      7\u001b[0m \u001b[1;32mimport\u001b[0m \u001b[0mpandas\u001b[0m \u001b[1;32mas\u001b[0m \u001b[0mpd\u001b[0m  \u001b[1;31m# data analysis and manipulation\u001b[0m\u001b[1;33m\u001b[0m\u001b[1;33m\u001b[0m\u001b[0m\n\u001b[0;32m      8\u001b[0m \u001b[1;32mimport\u001b[0m \u001b[0mnumpy\u001b[0m \u001b[1;32mas\u001b[0m \u001b[0mnp\u001b[0m  \u001b[1;31m# for mathematical operations\u001b[0m\u001b[1;33m\u001b[0m\u001b[1;33m\u001b[0m\u001b[0m\n",
      "\u001b[1;32m~\\anaconda3\\lib\\site-packages\\torch\\__init__.py\u001b[0m in \u001b[0;36m<module>\u001b[1;34m\u001b[0m\n\u001b[0;32m    115\u001b[0m                 \u001b[0merr\u001b[0m \u001b[1;33m=\u001b[0m \u001b[0mctypes\u001b[0m\u001b[1;33m.\u001b[0m\u001b[0mWinError\u001b[0m\u001b[1;33m(\u001b[0m\u001b[0mlast_error\u001b[0m\u001b[1;33m)\u001b[0m\u001b[1;33m\u001b[0m\u001b[1;33m\u001b[0m\u001b[0m\n\u001b[0;32m    116\u001b[0m                 \u001b[0merr\u001b[0m\u001b[1;33m.\u001b[0m\u001b[0mstrerror\u001b[0m \u001b[1;33m+=\u001b[0m \u001b[1;34mf' Error loading \"{dll}\" or one of its dependencies.'\u001b[0m\u001b[1;33m\u001b[0m\u001b[1;33m\u001b[0m\u001b[0m\n\u001b[1;32m--> 117\u001b[1;33m                 \u001b[1;32mraise\u001b[0m \u001b[0merr\u001b[0m\u001b[1;33m\u001b[0m\u001b[1;33m\u001b[0m\u001b[0m\n\u001b[0m\u001b[0;32m    118\u001b[0m             \u001b[1;32melif\u001b[0m \u001b[0mres\u001b[0m \u001b[1;32mis\u001b[0m \u001b[1;32mnot\u001b[0m \u001b[1;32mNone\u001b[0m\u001b[1;33m:\u001b[0m\u001b[1;33m\u001b[0m\u001b[1;33m\u001b[0m\u001b[0m\n\u001b[0;32m    119\u001b[0m                 \u001b[0mis_loaded\u001b[0m \u001b[1;33m=\u001b[0m \u001b[1;32mTrue\u001b[0m\u001b[1;33m\u001b[0m\u001b[1;33m\u001b[0m\u001b[0m\n",
      "\u001b[1;31mOSError\u001b[0m: [WinError 127] Die angegebene Prozedur wurde nicht gefunden. Error loading \"C:\\Users\\NALMPI\\anaconda3\\lib\\site-packages\\torch\\lib\\c10_cuda.dll\" or one of its dependencies."
     ]
    }
   ],
   "source": [
    "### importing packages\n",
    "import os\n",
    "import json\n",
    "import random\n",
    "import time  # to time execution time\n",
    "import torch  # ML lib. allows computation of tensors on GPUs\n",
    "import pandas as pd  # data analysis and manipulation\n",
    "import numpy as np  # for mathematical operations\n",
    "import matplotlib.pyplot as plt  # plotting\n",
    "\n",
    "plt.style.use(\"ggplot\")\n",
    "from tqdm.notebook import tqdm  # for progress bars\n",
    "from transformers import BertTokenizer  # tokenizes sequences of strings\n",
    "from torch.utils.data import TensorDataset, DataLoader\n",
    "from torch.utils.data import RandomSampler\n",
    "\n",
    "# create tensors from data and make them accesible for model\n",
    "from transformers import BertForSequenceClassification\n",
    "from transformers import (\n",
    "    AdamW,\n",
    "    get_linear_schedule_with_warmup,\n",
    ")"
   ]
  },
  {
   "cell_type": "code",
   "execution_count": 2,
   "metadata": {},
   "outputs": [
    {
     "ename": "NameError",
     "evalue": "name 'pd' is not defined",
     "output_type": "error",
     "traceback": [
      "\u001b[1;31m---------------------------------------------------------------------------\u001b[0m",
      "\u001b[1;31mNameError\u001b[0m                                 Traceback (most recent call last)",
      "\u001b[1;32m<ipython-input-2-250397860d84>\u001b[0m in \u001b[0;36m<module>\u001b[1;34m\u001b[0m\n\u001b[0;32m      1\u001b[0m \u001b[1;31m# Read data\u001b[0m\u001b[1;33m\u001b[0m\u001b[1;33m\u001b[0m\u001b[1;33m\u001b[0m\u001b[0m\n\u001b[1;32m----> 2\u001b[1;33m \u001b[0mdf\u001b[0m \u001b[1;33m=\u001b[0m \u001b[0mpd\u001b[0m\u001b[1;33m.\u001b[0m\u001b[0mread_csv\u001b[0m\u001b[1;33m(\u001b[0m\u001b[1;34m\"... .csv\"\u001b[0m\u001b[1;33m.\u001b[0m\u001b[0mformat\u001b[0m\u001b[1;33m(\u001b[0m\u001b[0mdataset\u001b[0m\u001b[1;33m)\u001b[0m\u001b[1;33m)\u001b[0m\u001b[1;33m\u001b[0m\u001b[1;33m\u001b[0m\u001b[0m\n\u001b[0m\u001b[0;32m      3\u001b[0m \u001b[1;33m\u001b[0m\u001b[0m\n\u001b[0;32m      4\u001b[0m \u001b[1;31m# sample size\u001b[0m\u001b[1;33m\u001b[0m\u001b[1;33m\u001b[0m\u001b[1;33m\u001b[0m\u001b[0m\n\u001b[0;32m      5\u001b[0m \u001b[0mn\u001b[0m \u001b[1;33m=\u001b[0m \u001b[0mlen\u001b[0m\u001b[1;33m(\u001b[0m\u001b[0mdf\u001b[0m\u001b[1;33m)\u001b[0m\u001b[1;33m\u001b[0m\u001b[1;33m\u001b[0m\u001b[0m\n",
      "\u001b[1;31mNameError\u001b[0m: name 'pd' is not defined"
     ]
    }
   ],
   "source": [
    "# Read data\n",
    "data = pd.read_csv(\"... .csv\".format(dataset))\n",
    "\n",
    "# sample size \n",
    "n = len(data)\n",
    "\n",
    "# first observations\n",
    "data.head()"
   ]
  },
  {
   "cell_type": "code",
   "execution_count": 3,
   "metadata": {},
   "outputs": [
    {
     "ename": "NameError",
     "evalue": "name 'device_name' is not defined",
     "output_type": "error",
     "traceback": [
      "\u001b[1;31m---------------------------------------------------------------------------\u001b[0m",
      "\u001b[1;31mNameError\u001b[0m                                 Traceback (most recent call last)",
      "\u001b[1;32m<ipython-input-3-958edc12b43a>\u001b[0m in \u001b[0;36m<module>\u001b[1;34m\u001b[0m\n\u001b[0;32m     24\u001b[0m     \u001b[1;34m\"LR\"\u001b[0m\u001b[1;33m:\u001b[0m \u001b[0mlr\u001b[0m\u001b[1;33m,\u001b[0m\u001b[1;33m\u001b[0m\u001b[1;33m\u001b[0m\u001b[0m\n\u001b[0;32m     25\u001b[0m     \u001b[1;34m\"EPS\"\u001b[0m\u001b[1;33m:\u001b[0m \u001b[0meps\u001b[0m\u001b[1;33m,\u001b[0m\u001b[1;33m\u001b[0m\u001b[1;33m\u001b[0m\u001b[0m\n\u001b[1;32m---> 26\u001b[1;33m     \u001b[1;34m\"device_name\"\u001b[0m\u001b[1;33m:\u001b[0m \u001b[0mdevice_name\u001b[0m\u001b[1;33m,\u001b[0m \u001b[1;31m# for GPU\u001b[0m\u001b[1;33m\u001b[0m\u001b[1;33m\u001b[0m\u001b[0m\n\u001b[0m\u001b[0;32m     27\u001b[0m }\n",
      "\u001b[1;31mNameError\u001b[0m: name 'device_name' is not defined"
     ]
    }
   ],
   "source": [
    "# store model specifications and device name for use in evaluation.py\n",
    "model_no = 0\n",
    "\n",
    "# Try 4: \n",
    "# bert-base-german-cased (trained by Deepset.ai)\n",
    "# bert-base-german-dbmdz-cased (trained by by DBMDZ)\n",
    "# bert-base-german-dbmdz-uncased (trained by by DBMDZ)\n",
    "# distilbert-base-german-cased (distilled from DBMDZ)\n",
    "pretrained_model = \"bert-base-german-cased\"\n",
    "\n",
    "# hyperparameters: max length, batch size; \n",
    "# optimizer parameters: learning rate, tolerance;\n",
    "# number of epochs\n",
    "\n",
    "max_length = 128\n",
    "batch_size = 16\n",
    "lr = 1e-5\n",
    "eps = 1e-8\n",
    "epochs = 4\n",
    "device_name = \"n/a\"\n",
    "\n",
    "model_parameters = {\n",
    "    \"model_type\": pretrained_model,\n",
    "    \"MAX_LEN\": max_length,\n",
    "    \"BATCH_SIZE\": batch_size,\n",
    "    \"LR\": lr,\n",
    "    \"EPS\": eps,\n",
    "    \"device_name\": device_name, # for GPU\n",
    "}"
   ]
  },
  {
   "cell_type": "code",
   "execution_count": 4,
   "metadata": {},
   "outputs": [
    {
     "ename": "NameError",
     "evalue": "name 'BertTokenizer' is not defined",
     "output_type": "error",
     "traceback": [
      "\u001b[1;31m---------------------------------------------------------------------------\u001b[0m",
      "\u001b[1;31mNameError\u001b[0m                                 Traceback (most recent call last)",
      "\u001b[1;32m<ipython-input-4-819cbd5f3cfb>\u001b[0m in \u001b[0;36m<module>\u001b[1;34m\u001b[0m\n\u001b[0;32m      2\u001b[0m \u001b[1;31m# Tokenization\u001b[0m\u001b[1;33m\u001b[0m\u001b[1;33m\u001b[0m\u001b[1;33m\u001b[0m\u001b[0m\n\u001b[0;32m      3\u001b[0m \u001b[1;33m\u001b[0m\u001b[0m\n\u001b[1;32m----> 4\u001b[1;33m \u001b[0mtokenizer\u001b[0m \u001b[1;33m=\u001b[0m \u001b[0mBertTokenizer\u001b[0m\u001b[1;33m.\u001b[0m\u001b[0mfrom_pretrained\u001b[0m\u001b[1;33m(\u001b[0m\u001b[0mpretrained_model\u001b[0m\u001b[1;33m)\u001b[0m\u001b[1;33m\u001b[0m\u001b[1;33m\u001b[0m\u001b[0m\n\u001b[0m\u001b[0;32m      5\u001b[0m \u001b[1;31m# , do_lower_case=True for uncased\u001b[0m\u001b[1;33m\u001b[0m\u001b[1;33m\u001b[0m\u001b[1;33m\u001b[0m\u001b[0m\n",
      "\u001b[1;31mNameError\u001b[0m: name 'BertTokenizer' is not defined"
     ]
    }
   ],
   "source": [
    "# Preprocessing\n",
    "# Tokenization \n",
    "\n",
    "tokenizer = BertTokenizer.from_pretrained(pretrained_model)\n",
    "# , do_lower_case=True for uncased "
   ]
  },
  {
   "cell_type": "code",
   "execution_count": 5,
   "metadata": {},
   "outputs": [
    {
     "ename": "NameError",
     "evalue": "name 'tokenizer' is not defined",
     "output_type": "error",
     "traceback": [
      "\u001b[1;31m---------------------------------------------------------------------------\u001b[0m",
      "\u001b[1;31mNameError\u001b[0m                                 Traceback (most recent call last)",
      "\u001b[1;32m<ipython-input-5-b0169bc3b229>\u001b[0m in \u001b[0;36m<module>\u001b[1;34m\u001b[0m\n\u001b[0;32m      1\u001b[0m \u001b[1;31m# encode textual data\u001b[0m\u001b[1;33m\u001b[0m\u001b[1;33m\u001b[0m\u001b[1;33m\u001b[0m\u001b[0m\n\u001b[1;32m----> 2\u001b[1;33m encoded_train = tokenizer.batch_encode_plus(\n\u001b[0m\u001b[0;32m      3\u001b[0m     \u001b[0mdata\u001b[0m\u001b[1;33m[\u001b[0m\u001b[0mfull_text\u001b[0m\u001b[1;33m]\u001b[0m\u001b[1;33m.\u001b[0m\u001b[0mvalues\u001b[0m\u001b[1;33m,\u001b[0m\u001b[1;33m\u001b[0m\u001b[1;33m\u001b[0m\u001b[0m\n\u001b[0;32m      4\u001b[0m     \u001b[0madd_special_tokens\u001b[0m\u001b[1;33m=\u001b[0m\u001b[1;32mTrue\u001b[0m\u001b[1;33m,\u001b[0m\u001b[1;33m\u001b[0m\u001b[1;33m\u001b[0m\u001b[0m\n\u001b[0;32m      5\u001b[0m     \u001b[0mreturn_attention_mask\u001b[0m\u001b[1;33m=\u001b[0m\u001b[1;32mTrue\u001b[0m\u001b[1;33m,\u001b[0m\u001b[1;33m\u001b[0m\u001b[1;33m\u001b[0m\u001b[0m\n",
      "\u001b[1;31mNameError\u001b[0m: name 'tokenizer' is not defined"
     ]
    }
   ],
   "source": [
    "# encode textual data \n",
    "encoded_train = tokenizer.batch_encode_plus(\n",
    "    data[full_text].values,     \n",
    "    add_special_tokens=True,\n",
    "    return_attention_mask=True,\n",
    "    pad_to_max_length=True,\n",
    "    max_length=max_len,\n",
    "    truncation=True,\n",
    "    return_tensors=\"pt\",\n",
    ")\n",
    "\n",
    "# extract model input\n",
    "input_ids_train = encoded_train[\"input_ids\"]\n",
    "att_masks_train = encoded_train[\"attention_mask\"]\n",
    "labels_train = torch.tensor(df[label].values, dtype=torch.long)\n",
    "\n",
    "# TensorDataset combines prepared model inputs in a tensor to train\n",
    "# the model\n",
    "tensor_dataset_train = TensorDataset(\n",
    "    input_ids_train, att_masks_train, labels_train\n",
    ")\n",
    "\n",
    "num_labels = len(data[labels].unique())"
   ]
  },
  {
   "cell_type": "code",
   "execution_count": 6,
   "metadata": {},
   "outputs": [
    {
     "ename": "NameError",
     "evalue": "name 'BertForSequenceClassification' is not defined",
     "output_type": "error",
     "traceback": [
      "\u001b[1;31m---------------------------------------------------------------------------\u001b[0m",
      "\u001b[1;31mNameError\u001b[0m                                 Traceback (most recent call last)",
      "\u001b[1;32m<ipython-input-6-4f0321b427f0>\u001b[0m in \u001b[0;36m<module>\u001b[1;34m\u001b[0m\n\u001b[0;32m      1\u001b[0m \u001b[1;31m# Put into a classification task\u001b[0m\u001b[1;33m\u001b[0m\u001b[1;33m\u001b[0m\u001b[1;33m\u001b[0m\u001b[0m\n\u001b[1;32m----> 2\u001b[1;33m model = BertForSequenceClassification.from_pretrained(\n\u001b[0m\u001b[0;32m      3\u001b[0m     \u001b[0mpretrained_model\u001b[0m\u001b[1;33m,\u001b[0m\u001b[1;33m\u001b[0m\u001b[1;33m\u001b[0m\u001b[0m\n\u001b[0;32m      4\u001b[0m     \u001b[0mnum_labels\u001b[0m\u001b[1;33m=\u001b[0m\u001b[0mnum_labels\u001b[0m\u001b[1;33m,\u001b[0m\u001b[1;33m\u001b[0m\u001b[1;33m\u001b[0m\u001b[0m\n\u001b[0;32m      5\u001b[0m     \u001b[0moutput_attentions\u001b[0m\u001b[1;33m=\u001b[0m\u001b[1;32mFalse\u001b[0m\u001b[1;33m,\u001b[0m\u001b[1;33m\u001b[0m\u001b[1;33m\u001b[0m\u001b[0m\n",
      "\u001b[1;31mNameError\u001b[0m: name 'BertForSequenceClassification' is not defined"
     ]
    }
   ],
   "source": [
    "# Put into a classification task\n",
    "model = BertForSequenceClassification.from_pretrained(\n",
    "    pretrained_model,\n",
    "    num_labels=num_labels,\n",
    "    output_attentions=False,\n",
    "    output_hidden_states=True, # to extract the embeddings\n",
    ")\n",
    "\n",
    "# DataLoader helps the model to read in the data\n",
    "dataloader_train = DataLoader(\n",
    "    tensor_dataset_train, sampler = RandomSampler(tensor_dataset_train), batch_size = batch_size\n",
    ")"
   ]
  },
  {
   "cell_type": "code",
   "execution_count": 2,
   "metadata": {},
   "outputs": [
    {
     "ename": "NameError",
     "evalue": "name 'AdamW' is not defined",
     "output_type": "error",
     "traceback": [
      "\u001b[1;31m---------------------------------------------------------------------------\u001b[0m",
      "\u001b[1;31mNameError\u001b[0m                                 Traceback (most recent call last)",
      "\u001b[1;32m<ipython-input-2-d4404f74ace5>\u001b[0m in \u001b[0;36m<module>\u001b[1;34m\u001b[0m\n\u001b[0;32m      1\u001b[0m \u001b[1;31m# Optimizer ADAM - define\u001b[0m\u001b[1;33m\u001b[0m\u001b[1;33m\u001b[0m\u001b[1;33m\u001b[0m\u001b[0m\n\u001b[1;32m----> 2\u001b[1;33m \u001b[0moptimizer\u001b[0m \u001b[1;33m=\u001b[0m \u001b[0mAdamW\u001b[0m\u001b[1;33m(\u001b[0m\u001b[0mmodel\u001b[0m\u001b[1;33m.\u001b[0m\u001b[0mparameters\u001b[0m\u001b[1;33m(\u001b[0m\u001b[1;33m)\u001b[0m\u001b[1;33m,\u001b[0m \u001b[0mlr\u001b[0m\u001b[1;33m=\u001b[0m\u001b[0mlr\u001b[0m\u001b[1;33m,\u001b[0m \u001b[0meps\u001b[0m\u001b[1;33m=\u001b[0m\u001b[0meps\u001b[0m\u001b[1;33m)\u001b[0m\u001b[1;33m\u001b[0m\u001b[1;33m\u001b[0m\u001b[0m\n\u001b[0m\u001b[0;32m      3\u001b[0m \u001b[1;33m\u001b[0m\u001b[0m\n\u001b[0;32m      4\u001b[0m \u001b[1;31m# learning rate schedule\u001b[0m\u001b[1;33m\u001b[0m\u001b[1;33m\u001b[0m\u001b[1;33m\u001b[0m\u001b[0m\n\u001b[0;32m      5\u001b[0m scheduler = get_linear_schedule_with_warmup(\n",
      "\u001b[1;31mNameError\u001b[0m: name 'AdamW' is not defined"
     ]
    }
   ],
   "source": [
    "# Optimizer ADAM - define\n",
    "optimizer = AdamW(model.parameters(), lr=lr, eps=eps)\n",
    "\n",
    "# learning rate schedule\n",
    "scheduler = get_linear_schedule_with_warmup(\n",
    "    optimizer,\n",
    "    num_warmup_steps=0,\n",
    "    num_training_steps=len(dataloader_train) * epochs,\n",
    ")"
   ]
  },
  {
   "cell_type": "code",
   "execution_count": null,
   "metadata": {},
   "outputs": [],
   "source": [
    "# seed\n",
    "seed_val = 17\n",
    "random.seed(seed_val)\n",
    "np.random.seed(seed_val)\n",
    "torch.manual_seed(seed_val)\n",
    "torch.cuda.manual_seed_all(seed_val)\n",
    "# to avoid non-determinism\n",
    "torch.backends.cudnn.benchmark = False\n",
    "torch.backends.cudnn.deterministic = True\n",
    "\n",
    "\n",
    "# Attach model to GPU device: \n",
    "\n",
    "# set device\n",
    "device = torch.device(\"cuda\" if torch.cuda.is_available() else \"cpu\")\n",
    "\n",
    "# with tf you can retrieve the device name (may lead to problems when also using pytorch)\n",
    "# try:\n",
    "#    device_name = tf.test.gpu_device_name()\n",
    "# except:\n",
    "#    device_name = 'n/a'\n",
    "\n",
    "\n",
    "model.to(device)\n",
    "start = time.time()\n",
    "train_loss_all_epochs = []\n",
    "f1_score_all_epochs = []\n",
    "train_loss_set = []\n",
    "\n",
    "\n",
    "# training loop, tqdm for progress bar\n",
    "for epoch in tqdm(range(1, epochs + 1)):\n",
    "    # set model to train mode\n",
    "    model.train()\n",
    "    # initiate cumulated train loss\n",
    "    loss_train_total = 0\n",
    "    # define progress bar (to loop over dataloader in progress bar)\n",
    "    progress_bar = tqdm(\n",
    "        dataloader_train,\n",
    "        desc=\"Epoch {:1d}\".format(epoch),\n",
    "        leave=False,\n",
    "        disable=False,\n",
    "    )\n",
    "    for batch in progress_bar:\n",
    "        # clear gradients from memory\n",
    "        model.zero_grad()\n",
    "        # add batches to GPU\n",
    "        batch = tuple(b.to(device) for b in batch)\n",
    "        # Unpack the inputs from dataloader\n",
    "        inputs = {\n",
    "            \"input_ids\": batch[0],\n",
    "            \"attention_mask\": batch[1],\n",
    "            \"labels\": batch[2],\n",
    "        }\n",
    "        # forward pass: calculate logit predictions\n",
    "        outputs = model(**inputs)\n",
    "        # store batch loss\n",
    "        loss = outputs[0]\n",
    "        # track batch loss\n",
    "        train_loss_set.append(loss.item())\n",
    "        # accumulate batch loss\n",
    "        loss_train_total += loss.item()\n",
    "        # backward pass\n",
    "        loss.backward()\n",
    "        # gradient clipping to prevent exploding gradients\n",
    "        torch.nn.utils.clip_grad_norm_(model.parameters(), 1.0)\n",
    "\n",
    "        optimizer.step()\n",
    "        scheduler.step()\n",
    "        # print progress (training loss of current epoch)\n",
    "        progress_bar.set_postfix(\n",
    "            {\"training_loss\": \"{:.3f}\".format(loss.item() / len(batch))}\n",
    "        )\n",
    "\n",
    "    # plot training performance\n",
    "    plt.figure(figsize=(15, 8))\n",
    "    plt.title(\"Training loss\")\n",
    "    plt.xlabel(\"Batch\")\n",
    "    plt.ylabel(\"Loss\")\n",
    "    plt.plot(train_loss_set)\n",
    "    # plt.show()\n",
    "    plt.savefig(\n",
    "        \"./results/sentiment_analysis/training/{}/train_loss_{}_epoch_{}.png\".format(\n",
    "            dataset, model_no, epoch\n",
    "        )\n",
    "    )\n",
    "\n",
    "    # plot training performance last 50 batches\n",
    "    k = n / BATCH_SIZE\n",
    "    k2 = int(k - 1)\n",
    "    k1 = int(k - 50)\n",
    "    plt.figure(figsize=(15, 8))\n",
    "    plt.title(\"Training Loss - Last 50 Batches\")\n",
    "    plt.xlabel(\"Batch\")\n",
    "    plt.ylabel(\"Loss\")\n",
    "    plt.plot(train_loss_set[k1:k2])\n",
    "    # plt.show()\n",
    "    plt.savefig(\n",
    "        \"./results/sentiment_analysis/training/{}/train_loss_50_{}_epoch_{}.png\".format(\n",
    "            dataset, model_no, epoch\n",
    "        )\n",
    "    )\n",
    "\n",
    "    # save model after each epoch\n",
    "    torch.save(\n",
    "        model.state_dict(),\n",
    "        f\"./results/sentiment_analysis/training/{dataset}/BERT_{model_no}_epoch_{epoch}.model\",\n",
    "    )\n",
    "\n",
    "    # print current epoch\n",
    "    tqdm.write(f\"\\nEpoch {epoch}\")\n",
    "\n",
    "    # compute train loss (cumulated loss/number of batches)\n",
    "    loss_train_avg = loss_train_total / len(dataloader_train)\n",
    "\n",
    "    # print train loss\n",
    "    tqdm.write(f\"Training loss: {loss_train_avg}\")\n",
    "\n",
    "end = time.time()\n",
    "wall_time = end - start\n",
    "print(\"wall_time: \", wall_time, \"s\")"
   ]
  }
 ],
 "metadata": {
  "kernelspec": {
   "display_name": "Python 3",
   "language": "python",
   "name": "python3"
  },
  "language_info": {
   "codemirror_mode": {
    "name": "ipython",
    "version": 3
   },
   "file_extension": ".py",
   "mimetype": "text/x-python",
   "name": "python",
   "nbconvert_exporter": "python",
   "pygments_lexer": "ipython3",
   "version": "3.7.6"
  }
 },
 "nbformat": 4,
 "nbformat_minor": 4
}

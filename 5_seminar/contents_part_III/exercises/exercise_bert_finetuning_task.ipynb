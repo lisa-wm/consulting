{
  "nbformat": 4,
  "nbformat_minor": 0,
  "metadata": {
    "colab": {
      "name": "exercise_bert_finetuning_task.ipynb",
      "provenance": [],
      "collapsed_sections": [],
      "toc_visible": true
    },
    "kernelspec": {
      "name": "python3",
      "display_name": "Python 3"
    },
    "accelerator": "GPU"
  },
  "cells": [
    {
      "cell_type": "markdown",
      "metadata": {
        "id": "09FrEZkpUv0F"
      },
      "source": [
        "***\n",
        "# Excercise: BERT Fine-Tuning (pure)\n",
        "***\n",
        "\n"
      ]
    },
    {
      "cell_type": "markdown",
      "metadata": {
        "id": "8WrhLjZdVN49"
      },
      "source": [
        "*By Asmik Nalmpatian and Lisa Wimmer – for Intro to NLP*\n",
        "\n",
        "*Methodology based on: https://arxiv.org/pdf/1810.04805.pdf*"
      ]
    },
    {
      "cell_type": "markdown",
      "metadata": {
        "id": "shmCbiSwlDNV"
      },
      "source": [
        "![Logo_Consulting.JPG](data:image/jpeg;base64,/9j/4AAQSkZJRgABAQEAYABgAAD/4RDgRXhpZgAATU0AKgAAAAgABAE7AAIAAAAHAAAISodpAAQAAAABAAAIUpydAAEAAAAOAAAQyuocAAcAAAgMAAAAPgAAAAAc6gAAAAgAAAAAAAAAAAAAAAAAAAAAAAAAAAAAAAAAAAAAAAAAAAAAAAAAAAAAAAAAAAAAAAAAAAAAAAAAAAAAAAAAAAAAAAAAAAAAAAAAAAAAAAAAAAAAAAAAAAAAAAAAAAAAAAAAAAAAAAAAAAAAAAAAAAAAAAAAAAAAAAAAAAAAAAAAAAAAAAAAAAAAAAAAAAAAAAAAAAAAAAAAAAAAAAAAAAAAAAAAAAAAAAAAAAAAAAAAAAAAAAAAAAAAAAAAAAAAAAAAAAAAAAAAAAAAAAAAAAAAAAAAAAAAAAAAAAAAAAAAAAAAAAAAAAAAAAAAAAAAAAAAAAAAAAAAAAAAAAAAAAAAAAAAAAAAAAAAAAAAAAAAAAAAAAAAAAAAAAAAAAAAAAAAAAAAAAAAAAAAAAAAAAAAAAAAAAAAAAAAAAAAAAAAAAAAAAAAAAAAAAAAAAAAAAAAAAAAAAAAAAAAAAAAAAAAAAAAAAAAAAAAAAAAAAAAAAAAAAAAAAAAAAAAAAAAAAAAAAAAAAAAAAAAAAAAAAAAAAAAAAAAAAAAAAAAAAAAAAAAAAAAAAAAAAAAAAAAAAAAAAAAAAAAAAAAAAAAAAAAAAAAAAAAAAAAAAAAAAAAAAAAAAAAAAAAAAAAAAAAAAAAAAAAAAAAAAAAAAAAAAAAAAAAAAAAAAAAAAAAAAAAAAAAAAAAAAAAAAAAAAAAAAAAAAAAAAAAAAAAAAAAAAAAAAAAAAAAAAAAAAAAAAAAAAAAAAAAAAAAAAAAAAAAAAAAAAAAAAAAAAAAAAAAAAAAAAAAAAAAAAAAAAAAAAAAAAAAAAAAAAAAAAAAAAAAAAAAAAAAAAAAAAAAAAAAAAAAAAAAAAAAAAAAAAAAAAAAAAAAAAAAAAAAAAAAAAAAAAAAAAAAAAAAAAAAAAAAAAAAAAAAAAAAAAAAAAAAAAAAAAAAAAAAAAAAAAAAAAAAAAAAAAAAAAAAAAAAAAAAAAAAAAAAAAAAAAAAAAAAAAAAAAAAAAAAAAAAAAAAAAAAAAAAAAAAAAAAAAAAAAAAAAAAAAAAAAAAAAAAAAAAAAAAAAAAAAAAAAAAAAAAAAAAAAAAAAAAAAAAAAAAAAAAAAAAAAAAAAAAAAAAAAAAAAAAAAAAAAAAAAAAAAAAAAAAAAAAAAAAAAAAAAAAAAAAAAAAAAAAAAAAAAAAAAAAAAAAAAAAAAAAAAAAAAAAAAAAAAAAAAAAAAAAAAAAAAAAAAAAAAAAAAAAAAAAAAAAAAAAAAAAAAAAAAAAAAAAAAAAAAAAAAAAAAAAAAAAAAAAAAAAAAAAAAAAAAAAAAAAAAAAAAAAAAAAAAAAAAAAAAAAAAAAAAAAAAAAAAAAAAAAAAAAAAAAAAAAAAAAAAAAAAAAAAAAAAAAAAAAAAAAAAAAAAAAAAAAAAAAAAAAAAAAAAAAAAAAAAAAAAAAAAAAAAAAAAAAAAAAAAAAAAAAAAAAAAAAAAAAAAAAAAAAAAAAAAAAAAAAAAAAAAAAAAAAAAAAAAAAAAAAAAAAAAAAAAAAAAAAAAAAAAAAAAAAAAAAAAAAAAAAAAAAAAAAAAAAAAAAAAAAAAAAAAAAAAAAAAAAAAAAAAAAAAAAAAAAAAAAAAAAAAAAAAAAAAAAAAAAAAAAAAAAAAAAAAAAAAAAAAAAAAAAAAAAAAAAAAAAAAAAAAAAAAAAAAAAAAAAAAAAAAAAAAAAAAAAAAAAAAAAAAAAAAAAAAAAAAAAAAAAAAAAAAAAAAAAAAAAAAAAAAAAAAAAAAAAAAAAAAAAAAAAAAAAAAAAAAAAAAAAAAAAAAAAAAAAAAAAAAAAAAAAAAAAAAAAAAAAAAAAAAAAAAAAAAAAAAAAAAAAAAAAAAAAAAAAAAAAAAAAAAAAAAAAAAAAAAAAAAAAAAAAAAAAAAAAAAAAAAAAAAAAAAAAAAAAAAAAAAAAAAAAAAAAAAAAAAAAAAAAAAAAAAAAAAAAAAAAAAAAAAAAAAAAAAAAAAAAAAAAAAAAAAAAAAAAAAAAAAAAAAAAAAAAAAAAAAAAAAAAAAAAAAAAAAAAAAAAAAAAAAAAAAAAAAAAAAAAAAAAAAAAAAAAAAAAAAAAAAAAAAAAAAAAAAAAAAAAAAAAAAAAAAAAAAAAAAAAAAAAAAAAAAAAAAAAAAAAAAAAAAAAAAAAAAAAAAAAAAAAAAAAAAAAAAAAAAAAAAAAAAAAAAAAAAAAAAAAAAAAAAAAAAAAAAAAAAAAAAAAAAAAAAAAAAAAAAAAAAAAAAAAAAAAAAAAAAAAAAAAAAAAAAAAAAAAAAAAAAAAAAAAAAAAAAAAAAAAAAAAAAAAAAAAAAAAAAAAAAAAAAAAAAAAAAAAAAAAAAAAAAAAAAAAAAAAAAAAAAAAAAAAAAAAAAAAAAAAAAAAAAAAAAAAAAAAAAAAAAAAAAAAAAAAAAAAAAAAAAAAAAAAAAAAAAAAAAAAAAAAAAAAAAAAAAAAAAAAAAAAAAAAAAAAAAAAAAAAAAAAAAAAAAAAAAAAAAAAAAAAAAAAAAAAAAAAAAAAAAAAAAAAAAAAAAAAAAAAAAAAAAAAAAAAAAAAAAAAAAAAAAAAAAAAAAAAAAAAAAAAAAAAAAAAAAAAAAAAAAAAAAAAAAAAAAAAAAAAAAAAAAAAAAAAAAAAAAAAAAAAAAAAAAAAAAAAAAAAAAAAAAAAAAAAAAAAAAAAAAAAAAAAAAAAAAAAAAAAAAAAAAAAAAAAAAAAAAAAAE5BTE1QSQAAAAWQAwACAAAAFAAAEKCQBAACAAAAFAAAELSSkQACAAAAAzQ1AACSkgACAAAAAzQ1AADqHAAHAAAIDAAACJQAAAAAHOoAAAAIAAAAAAAAAAAAAAAAAAAAAAAAAAAAAAAAAAAAAAAAAAAAAAAAAAAAAAAAAAAAAAAAAAAAAAAAAAAAAAAAAAAAAAAAAAAAAAAAAAAAAAAAAAAAAAAAAAAAAAAAAAAAAAAAAAAAAAAAAAAAAAAAAAAAAAAAAAAAAAAAAAAAAAAAAAAAAAAAAAAAAAAAAAAAAAAAAAAAAAAAAAAAAAAAAAAAAAAAAAAAAAAAAAAAAAAAAAAAAAAAAAAAAAAAAAAAAAAAAAAAAAAAAAAAAAAAAAAAAAAAAAAAAAAAAAAAAAAAAAAAAAAAAAAAAAAAAAAAAAAAAAAAAAAAAAAAAAAAAAAAAAAAAAAAAAAAAAAAAAAAAAAAAAAAAAAAAAAAAAAAAAAAAAAAAAAAAAAAAAAAAAAAAAAAAAAAAAAAAAAAAAAAAAAAAAAAAAAAAAAAAAAAAAAAAAAAAAAAAAAAAAAAAAAAAAAAAAAAAAAAAAAAAAAAAAAAAAAAAAAAAAAAAAAAAAAAAAAAAAAAAAAAAAAAAAAAAAAAAAAAAAAAAAAAAAAAAAAAAAAAAAAAAAAAAAAAAAAAAAAAAAAAAAAAAAAAAAAAAAAAAAAAAAAAAAAAAAAAAAAAAAAAAAAAAAAAAAAAAAAAAAAAAAAAAAAAAAAAAAAAAAAAAAAAAAAAAAAAAAAAAAAAAAAAAAAAAAAAAAAAAAAAAAAAAAAAAAAAAAAAAAAAAAAAAAAAAAAAAAAAAAAAAAAAAAAAAAAAAAAAAAAAAAAAAAAAAAAAAAAAAAAAAAAAAAAAAAAAAAAAAAAAAAAAAAAAAAAAAAAAAAAAAAAAAAAAAAAAAAAAAAAAAAAAAAAAAAAAAAAAAAAAAAAAAAAAAAAAAAAAAAAAAAAAAAAAAAAAAAAAAAAAAAAAAAAAAAAAAAAAAAAAAAAAAAAAAAAAAAAAAAAAAAAAAAAAAAAAAAAAAAAAAAAAAAAAAAAAAAAAAAAAAAAAAAAAAAAAAAAAAAAAAAAAAAAAAAAAAAAAAAAAAAAAAAAAAAAAAAAAAAAAAAAAAAAAAAAAAAAAAAAAAAAAAAAAAAAAAAAAAAAAAAAAAAAAAAAAAAAAAAAAAAAAAAAAAAAAAAAAAAAAAAAAAAAAAAAAAAAAAAAAAAAAAAAAAAAAAAAAAAAAAAAAAAAAAAAAAAAAAAAAAAAAAAAAAAAAAAAAAAAAAAAAAAAAAAAAAAAAAAAAAAAAAAAAAAAAAAAAAAAAAAAAAAAAAAAAAAAAAAAAAAAAAAAAAAAAAAAAAAAAAAAAAAAAAAAAAAAAAAAAAAAAAAAAAAAAAAAAAAAAAAAAAAAAAAAAAAAAAAAAAAAAAAAAAAAAAAAAAAAAAAAAAAAAAAAAAAAAAAAAAAAAAAAAAAAAAAAAAAAAAAAAAAAAAAAAAAAAAAAAAAAAAAAAAAAAAAAAAAAAAAAAAAAAAAAAAAAAAAAAAAAAAAAAAAAAAAAAAAAAAAAAAAAAAAAAAAAAAAAAAAAAAAAAAAAAAAAAAAAAAAAAAAAAAAAAAAAAAAAAAAAAAAAAAAAAAAAAAAAAAAAAAAAAAAAAAAAAAAAAAAAAAAAAAAAAAAAAAAAAAAAAAAAAAAAAAAAAAAAAAAAAAAAAAAAAAAAAAAAAAAAAAAAAAAAAAAAAAAAAAAAAAAAAAAAAAAAAAAAAAAAAAAAAAAAAAAAAAAAAAAAAAAAAAAAAAAAAAAAAAAAAAAAAAAAAAAAAAAAAAAAAAAAAAAAAAAAAAAAAAAAAAAAAAAAAAAAAAAAAAAAAAAAAAAAAAAAAAAAAAAAAAAAAAAAAAAAAAAAAAAAAAAAAAAAAAAAAAAAAAAAAAAAAAAAAAAAAAAAAAAAAAAAAAAAAAAAAAAAAAAAAAAAAAAAAAAAAAAAAAAAAAAAAAAAAAAAAAAAAAAAAAAAAAAAAAAAAAAAAAAAAAAAAAAAAAAAAAAAAAAAAAAAAAAAAAAAAAAAAAAAAAAAAAAAAAAAAAAAAAAAAAAAAAAAAAAAAAAAAAAAAAAAAAAAAAAAAAAAAAAAAAAAAAAAAAAAAAAAAAAAAAAAAAAAAAAAAAAAAAAAAAAAAAAAAAAAAAAAAAAAAAAAAAAAAAAAAAAAAAAAAAAAAAAAAAAAAAAAAAAAAAAAAAAAAAAAAAAAAAAAAAAAAAAAAAAAAAAAAAAAAAAAAAAAAAAAAAAAAAAAAAAAAAAAAAAAAAAAAAAAAAAAAAAAAAAAAAAAAAAAAAAAAAAAAAAAAAAAAAAAAAAAAAAAAAAAAAAAAAAAAAAAAAAAAAAAAAAAAAAAAAAAAAAAAAAAAAAAAAAAAAAAAAAAAAAAAAAAAAAAAAAAAAAAAAAAAAAAAAAAAAAAAAAAAAAAAAAAAAAAAAAAAAAAAAAAAAAAAAAAAAAAAAAAAAAAAAAAAAAAAAAAAAAAAAAAAAAAAAAAAAAAAAAAAAAAAAAAAAAAAAAAAAAAAAAAAAAAAAAAAAAAAAAAAAAAAAAAAAAAAAAAAAAAAAAAAAAAAAAAAAAAAAAAAAAAAAAAAAAAAAAAAAAAAAAAAAAAAAAAAAAAAAAAAAAAAAAAAAAAAAAAAAAAAAAAAAAAAAAAAAAAAAAAAAAAAAAAAAAAAAAAAAAAAAAAAAAAAAAAAAAAAAAAAAAAAAAAAAAAAAAAAAAAAAAAAAAAAAAAAAAAAAAAAAAAAAAAAAAAAAAAAAAAAAAAAAAAAAAAAAAAAAAAAAAAyMDIxOjAzOjIxIDIxOjQwOjE1ADIwMjE6MDM6MjEgMjE6NDA6MTUAAABOAEEATABNAFAASQAAAP/hCxlodHRwOi8vbnMuYWRvYmUuY29tL3hhcC8xLjAvADw/eHBhY2tldCBiZWdpbj0n77u/JyBpZD0nVzVNME1wQ2VoaUh6cmVTek5UY3prYzlkJz8+DQo8eDp4bXBtZXRhIHhtbG5zOng9ImFkb2JlOm5zOm1ldGEvIj48cmRmOlJERiB4bWxuczpyZGY9Imh0dHA6Ly93d3cudzMub3JnLzE5OTkvMDIvMjItcmRmLXN5bnRheC1ucyMiPjxyZGY6RGVzY3JpcHRpb24gcmRmOmFib3V0PSJ1dWlkOmZhZjViZGQ1LWJhM2QtMTFkYS1hZDMxLWQzM2Q3NTE4MmYxYiIgeG1sbnM6ZGM9Imh0dHA6Ly9wdXJsLm9yZy9kYy9lbGVtZW50cy8xLjEvIi8+PHJkZjpEZXNjcmlwdGlvbiByZGY6YWJvdXQ9InV1aWQ6ZmFmNWJkZDUtYmEzZC0xMWRhLWFkMzEtZDMzZDc1MTgyZjFiIiB4bWxuczp4bXA9Imh0dHA6Ly9ucy5hZG9iZS5jb20veGFwLzEuMC8iPjx4bXA6Q3JlYXRlRGF0ZT4yMDIxLTAzLTIxVDIxOjQwOjE1LjQ0OTwveG1wOkNyZWF0ZURhdGU+PC9yZGY6RGVzY3JpcHRpb24+PHJkZjpEZXNjcmlwdGlvbiByZGY6YWJvdXQ9InV1aWQ6ZmFmNWJkZDUtYmEzZC0xMWRhLWFkMzEtZDMzZDc1MTgyZjFiIiB4bWxuczpkYz0iaHR0cDovL3B1cmwub3JnL2RjL2VsZW1lbnRzLzEuMS8iPjxkYzpjcmVhdG9yPjxyZGY6U2VxIHhtbG5zOnJkZj0iaHR0cDovL3d3dy53My5vcmcvMTk5OS8wMi8yMi1yZGYtc3ludGF4LW5zIyI+PHJkZjpsaT5OQUxNUEk8L3JkZjpsaT48L3JkZjpTZXE+DQoJCQk8L2RjOmNyZWF0b3I+PC9yZGY6RGVzY3JpcHRpb24+PC9yZGY6UkRGPjwveDp4bXBtZXRhPg0KICAgICAgICAgICAgICAgICAgICAgICAgICAgICAgICAgICAgICAgICAgICAgICAgICAgICAgICAgICAgICAgICAgICAgICAgICAgICAgICAgICAgICAgICAgICAgICAgICAgIAogICAgICAgICAgICAgICAgICAgICAgICAgICAgICAgICAgICAgICAgICAgICAgICAgICAgICAgICAgICAgICAgICAgICAgICAgICAgICAgICAgICAgICAgICAgICAgICAgICAgCiAgICAgICAgICAgICAgICAgICAgICAgICAgICAgICAgICAgICAgICAgICAgICAgICAgICAgICAgICAgICAgICAgICAgICAgICAgICAgICAgICAgICAgICAgICAgICAgICAgICAKICAgICAgICAgICAgICAgICAgICAgICAgICAgICAgICAgICAgICAgICAgICAgICAgICAgICAgICAgICAgICAgICAgICAgICAgICAgICAgICAgICAgICAgICAgICAgICAgICAgIAogICAgICAgICAgICAgICAgICAgICAgICAgICAgICAgICAgICAgICAgICAgICAgICAgICAgICAgICAgICAgICAgICAgICAgICAgICAgICAgICAgICAgICAgICAgICAgICAgICAgCiAgICAgICAgICAgICAgICAgICAgICAgICAgICAgICAgICAgICAgICAgICAgICAgICAgICAgICAgICAgICAgICAgICAgICAgICAgICAgICAgICAgICAgICAgICAgICAgICAgICAKICAgICAgICAgICAgICAgICAgICAgICAgICAgICAgICAgICAgICAgICAgICAgICAgICAgICAgICAgICAgICAgICAgICAgICAgICAgICAgICAgICAgICAgICAgICAgICAgICAgIAogICAgICAgICAgICAgICAgICAgICAgICAgICAgICAgICAgICAgICAgICAgICAgICAgICAgICAgICAgICAgICAgICAgICAgICAgICAgICAgICAgICAgICAgICAgICAgICAgICAgCiAgICAgICAgICAgICAgICAgICAgICAgICAgICAgICAgICAgICAgICAgICAgICAgICAgICAgICAgICAgICAgICAgICAgICAgICAgICAgICAgICAgICAgICAgICAgICAgICAgICAKICAgICAgICAgICAgICAgICAgICAgICAgICAgICAgICAgICAgICAgICAgICAgICAgICAgICAgICAgICAgICAgICAgICAgICAgICAgICAgICAgICAgICAgICAgICAgICAgICAgIAogICAgICAgICAgICAgICAgICAgICAgICAgICAgICAgICAgICAgICAgICAgICAgICAgICAgICAgICAgICAgICAgICAgICAgICAgICAgICAgICAgICAgICAgICAgICAgICAgICAgCiAgICAgICAgICAgICAgICAgICAgICAgICAgICAgICAgICAgICAgICAgICAgICAgICAgICAgICAgICAgICAgICAgICAgICAgICAgICAgICAgICAgICAgICAgICAgICAgICAgICAKICAgICAgICAgICAgICAgICAgICAgICAgICAgICAgICAgICAgICAgICAgICAgICAgICAgICAgICAgICAgICAgICAgICAgICAgICAgICAgICAgICAgICAgICAgICAgICAgICAgIAogICAgICAgICAgICAgICAgICAgICAgICAgICAgICAgICAgICAgICAgICAgICAgICAgICAgICAgICAgICAgICAgICAgICAgICAgICAgICAgICAgICAgICAgICAgICAgICAgICAgCiAgICAgICAgICAgICAgICAgICAgICAgICAgICAgICAgICAgICAgICAgICAgICAgICAgICAgICAgICAgICAgICAgICAgICAgICAgICAgICAgICAgICAgICAgICAgICAgICAgICAKICAgICAgICAgICAgICAgICAgICAgICAgICAgICAgICAgICAgICAgICAgICAgICAgICAgICAgICAgICAgICAgICAgICAgICAgICAgICAgICAgICAgICAgICAgICAgICAgICAgIAogICAgICAgICAgICAgICAgICAgICAgICAgICAgICAgICAgICAgICAgICAgICAgICAgICAgICAgICAgICAgICAgICAgICAgICAgICAgICAgICAgICAgICAgICAgICAgICAgICAgCiAgICAgICAgICAgICAgICAgICAgICAgICAgICAgICAgICAgICAgICAgICAgICAgICAgICAgICAgICAgICAgICAgICAgICAgICAgICAgICAgICAgICAgICAgICAgICAgICAgICAKICAgICAgICAgICAgICAgICAgICAgICAgICAgICAgICAgICAgICAgICAgICAgICAgICAgICAgICAgICAgICAgICAgICAgICAgICAgICAgICAgICAgICAgICAgICAgICAgICAgIAogICAgICAgICAgICAgICAgICAgICAgICAgICAgICAgICAgICAgICAgICAgICAgICAgICAgICAgICAgICAgICAgICAgICAgICAgICAgICAgICAgICAgICAgICAgICAgICAgICAgCiAgICAgICAgICAgICAgICAgICAgICAgICAgICA8P3hwYWNrZXQgZW5kPSd3Jz8+/9sAQwAHBQUGBQQHBgUGCAcHCAoRCwoJCQoVDxAMERgVGhkYFRgXGx4nIRsdJR0XGCIuIiUoKSssKxogLzMvKjInKisq/9sAQwEHCAgKCQoUCwsUKhwYHCoqKioqKioqKioqKioqKioqKioqKioqKioqKioqKioqKioqKioqKioqKioqKioqKioq/8AAEQgA9QHmAwEiAAIRAQMRAf/EAB8AAAEFAQEBAQEBAAAAAAAAAAABAgMEBQYHCAkKC//EALUQAAIBAwMCBAMFBQQEAAABfQECAwAEEQUSITFBBhNRYQcicRQygZGhCCNCscEVUtHwJDNicoIJChYXGBkaJSYnKCkqNDU2Nzg5OkNERUZHSElKU1RVVldYWVpjZGVmZ2hpanN0dXZ3eHl6g4SFhoeIiYqSk5SVlpeYmZqio6Slpqeoqaqys7S1tre4ubrCw8TFxsfIycrS09TV1tfY2drh4uPk5ebn6Onq8fLz9PX29/j5+v/EAB8BAAMBAQEBAQEBAQEAAAAAAAABAgMEBQYHCAkKC//EALURAAIBAgQEAwQHBQQEAAECdwABAgMRBAUhMQYSQVEHYXETIjKBCBRCkaGxwQkjM1LwFWJy0QoWJDThJfEXGBkaJicoKSo1Njc4OTpDREVGR0hJSlNUVVZXWFlaY2RlZmdoaWpzdHV2d3h5eoKDhIWGh4iJipKTlJWWl5iZmqKjpKWmp6ipqrKztLW2t7i5usLDxMXGx8jJytLT1NXW19jZ2uLj5OXm5+jp6vLz9PX29/j5+v/aAAwDAQACEQMRAD8A+jy6g4Jo8xfX9KhmYKzMxwoGST2rg9Z8TXF7M0VnI0NsDgFThn9yf6VvRoSrO0Tnr4iFCN5HoJmjHVwKTz4v+ei/nXkZZiclmJ+tGW9TXb/Z/wDe/A8/+0v7v4/8A9c8+L/nov50efF/z0X868jy3qaMt6mn/Z/978A/tL+7+P8AwD1zz4v+ei/nR58X/PRfzryPLepoy3qaP7P/AL34B/aX938f+AeuefF/z0X86PPi/wCei/nXkeW9TRlvU0f2f/e/AP7S/u/j/wAA9c8+L/nov50efF/z0X868jy3qaMt6mj+z/734B/aX938f+AeuefF/wA9F/Ojz4v+ei/nXkeW9TRlvU0f2f8A3vwD+0v7v4/8A9c8+L/nov50efF/z0X868jy3qaMt6mj+z/734B/aX938f8AgHrnnxf89F/Ojz4v+ei/nXkeW9TRlvU0f2f/AHvwD+0v7v4/8A9c8+L/AJ6L+dHnxf8APRfzryPLepoy3qaP7P8A734B/aX938f+AeuefF/z0X86PPi/56L+deR5b1NGW9TR/Z/978A/tL+7+P8AwD1zz4v+ei/nR58X/PRfzryPLepoy3qaP7P/AL34B/aX938f+AeuefF/z0X86PPi/wCei/nXkeW9TRlvU0f2f/e/AP7S/u/j/wAA9c8+L/nov50vnxHo4/OvIst6mjcw7kfjS/s/+9+Af2l/d/H/AIB695i+v6UB1JwDXnGk+I7rT5VWZ2nt+jIxyVHqDXoFtKk6xyxMGRxuUjuMVx1qEqL1O+hiIV1puWaKKK5zpCiiigAooooAKKKKACiiigAooooAKKKKACiiigAooooAKKKKACiiigAooooAKKKKACiiigAooooAKKKKAMPxTM0Oh3RQ4LAJn2JGa4fR7Nb/AFa3tpPuO3zY7gDJ/lXaeL/+QFP/ALyfzrlPDH/Ix23/AAL/ANBNethXy4eUl5/keNi1zYqEXtp+Z3sdtBDGI4oY0RRgAKOKf5Uf9xf++RTqK8q7PYshvlR/3F/75FHlR/3F/wC+RTqKLsLIb5Uf9xf++RR5Uf8AcX/vkU6ii7CyG+VH/cX/AL5FHlR/3F/75FOoouwshvlR/wBxf++RR5Uf9xf++RTqKLsLIb5Uf9xf++RR5Uf9xf8AvkU6ii7CyG+VH/cX/vkUeVH/AHF/75FOoouwshvlR/3F/wC+RR5Uf9xf++RTqKLsLIb5Uf8AcX/vkUeVH/cX/vkU6ii7CyG+VH/cX/vkUeVH/cX/AL5FOoouwshvlR/3F/75FHlR/wBxf++RTqKLsLIb5Uf9xf8AvkUeVH/cX/vkU6ii7CyG+VH/AHF/75FNeCGRCrxIykYIKg5qSii7CyPOvEFjHp2sSQwDEbAOo/u57V1ng2ZpdFRW58uRlH06/wBa53xh/wAh8/8AXFf61veCf+QQ3/XZv5CvVrtywsW/I8fDpRxckttTpqKKK8k9kKKKKACiiigAooooAKKKKACiiigAooooAKKKKACiiigAooooAKKKKACiiigAooooAKKKKACiiigAooooA5/xf/yAp/8AeT+dcp4Y/wCRjtv+Bf8AoJrq/F//ACAp/wDeT+dcp4Y/5GO2/wCBf+gmvVw/+6z+f5Hj4r/e4fL8z0KiiivKPYCiiigAqOe4htojJcSLEg/iY4rH1rxLDpu6C3Amue4/hT6/4Vxd5fXN/MZbuVpG7Z6D6DtXbQwk6nvS0RwYjGwpPljqzrbzxlaRErZxPcH+8flX/GsefxfqcufL8qEf7KZP61hUV6UMLRj0ueVPGVp9behpN4h1ZjzeyD6AD+lKniPVkPF45/3gD/SsyitvZU/5V9xj7ar/ADP7zorfxlfRkfaIoph3wNprasfFen3ZCzFrZz2k+7+dcHRWE8HSlsrHRTxtaG7v6nq6sGUMpDKeQQetLXm+ma1eaW48h90WeYn5U/4V3OlaxbatDugO2RR88TdV/wAR715dfCzpa7o9bD4uFbTZl+iiiuU7AooooAKKKKACiiigAooooAKKKKAOE8Yf8h8/9cV/rW94J/5BDf8AXZv5CsHxh/yHz/1xX+tb3gn/AJBDf9dm/kK9Wt/ukfkePR/32XzOmoooryj2AorM1bWo9LmgRl3mQ5cDqq+taEM0c8KywsHRhkMO9W6clFSa0ZEakZScU9UPoooqCwooooAKKKKACiiigAooooAKKKKACiisDV/EqWzNBY4klHBkPKr/AImtKdKdWXLFGVWrClHmmzauLmG1j33Eqxr6scVjXPiy0iJFtHJOfX7orlLi5mupTJcSNI57sair1qeAgvjdzx6uYzfwKx0Eni+6P+rt4VHuSaYPFt8DzFAf+An/ABrCorp+q0f5Tl+t1/5jpofGDZ/f2gI9Uf8AxrVtPEOn3ZCiXynP8Mox+vSuEorKeBoy20NoY+tHfU9OByMjkUVwOn6zeacwEUm+PvG/I/8ArV12mazbamuEPlzAfNGx5/D1rzK2EnS13R6tDGU62mzNCioJ721th+/uI4/ZmGay7rxVZQ5FuHuG9htH5msYUak/hRvOtTp/FI26jFxE1wYFkUyqMlQckD3ri73xHfXeVV/Ij/ux9fzrofDunGysPMmGJpzubPUDsK3qYZ0oc03r2OenilWqctNadWa9FFFcZ2nP+L/+QFP/ALyfzrlPDH/Ix23/AAL/ANBNdX4v/wCQFP8A7yfzrlPDH/Ix23/Av/QTXq4f/dZ/P8jx8V/vcPl+Z6FRRRXlHsBXOeJPEBslNnZN/pDD53H/ACzHp9a0tb1MaVprTDBlb5YlPc+v4V507tLIzyMWdjlie5r0MHh1N88tjzcbiXTXs4bsaSSSSck9SaKKK9k8IKKKKACiiigAooooAKltrmW0uFmt3KSKcgioqKGk1ZjTad0ejaLrEer2m4YSZOJE9Pce1aVeY6bfy6bfJcw/w8Mv95e4r0q3njureOeE7kkUMprwsVQ9lK62Z9Dg8R7aNpbokooorjO0KKKKACiiigAooooAKKKKAOE8Yf8AIfP/AFxX+tb3gn/kEN/12b+QrB8Yf8h8/wDXFf61veCf+QQ3/XZv5CvVrf7pH5Hj0f8AfZfM6aiiorqTybOaQfwIzfkK8tK7seu3ZXOF1m7+2atPJnKq2xfoOKk0fWZdLl2tl7dj8yenuKzM55PWivpnSi4eza0PlVWmqntE9T0m3uYruBZrdw6N0IqWvPdO1O40ybfA2VP34z0au103VbbU4swttkA+aNuo/wAa8TEYWVJ3WqPew2LjWVnoy7RRRXGdoUUUUAFFFFABRRRQAUUVn61qH9naa8in963yx/X1/CqhFzkorqROahFyfQyfEWtlWaxs2wekrg9P9kVy9KSWJJOSTkk96SvpKNKNKPLE+YrVpVp80gooorUxCiiigAooooAKUEg5BwfUUlFABRRWrpv9lW22e/laaQciFEJA+vrUzlyq9rlwhzu17F3w/oRmdby8XEQ5jQ/xH1PtXWVzk3i+FRi3tXb03kL/AI1UTW9W1W5FvZ7Ii3XYv3R6kmvIq0a9aXPPRHs0q2HoR5Iavy6nXUVBZ232W3CGRpX6vI5yWNFec7J6Hpq7WpjeL/8AkBT/AO8n865Twx/yMdt/wL/0E11fi/8A5AU/+8n865Twx/yMdt/wL/0E16mH/wB1n8/yPIxX+9w+X5noVFFQ3k/2WymnP/LNC35CvLSu7HrtpK7OH8U3/wBs1ho1OYrf5F579z/n0rFpWYuxZuWY5J96SvpacFCCiuh8rUm6k3J9QoooqzM3fDehJqkjz3Wfs8ZxtBxvPp9Kv+IPDVvBZNd6ehQxDLx5JBHqK1vC8YTw7blR97cx+uTWnNGJYJI26MpU/iK8WpiZqu2nome9SwlN0EmtWtzyqlVS7BVGWY4AHc0hGCR6Vo6BGsuv2ivyPMzj6DNexKXLFy7HhwjzSUe51Fj4TsY7MLeoZZ2HzNuI2n0GK5XWdMbStQaAktGRujY9xXpNct43iHk2kv8AEGZfwxmvJwuInKraT3PaxeGpxo3irWOQooor2Dwwrr/Bl+WjlsZD9z95H9O4/wA+tchV/Q7r7JrVtJnCl9jfQ8VhiKftKTR0Yap7Oqmek0UUV86fThRRRQAUUUUAFFFFABRRRQBwnjD/AJD5/wCuK/1re8E/8ghv+uzfyFYPjD/kPn/riv8AWt7wT/yCG/67N/IV6tb/AHSPyPHo/wC+y+Z01VtRUvpdyo6mJv5VZpGUMpVuhGDXlxdmmetJXTR5lRU11A1rdywP1jYrUNfVJpq6PkmmnZhT45HhkWSJ2R1OQynBFMooFsdRpnioHbFqQwennKP5j/CukilSaMPE6uh6MpyDXmdWbO/ubGTfaysnqOoP1FedWwMZaw0f4Hp0MwlDSpqvxPRaK5yx8WRPhb+Ixt/fTkfl1ret7qC6j320qSL6qc15dSjUp/Ej16denVXuMlooorE2CiiigArj/FdyZNSSAH5YU6e5/wDrYrsK4DW2L65dE9nx+Qr0MBG9W/ZHnZjJqkl3ZQooor2zwAooooAKKKKACiiigAooooAKKK1NG0V9VZnLiOFDhj3J9BUznGEeaWxcISqS5YrUqWNhPqFwIrdcn+Jj0UepruNM0yHTLfy4huc/fkI5Y1NaWcFjAIraMIo/M+5qevCxGKlW0WiPfwuEjRXM9ZBRRRXGdxz/AIv/AOQFP/vJ/OuU8Mf8jHbf8C/9BNdX4v8A+QFP/vJ/OuU8Mf8AIx23/Av/AEE16uH/AN1n8/yPHxX+9w+X5noVZHiiQx+HrjH8W1fzIrXrE8W/8i/J/wBdF/nXBQ1qx9T0cQ7UZejOCooor6M+XCiiigB6zSquFkdR6BiKXz5v+e0n/fZqOilZDuwpQxVsqSCOhBxU0djdyrmO1mYeojJpstrcQf6+CSMf7aEUc0XpcfLJK9hPPm/57Sf99mmtI7/fdmx03MTTaKLIV2FFABJAAyT0A71vab4TvLsCS6P2aI9mGWP4dvxqZ1IU1eTLp0p1HaCuYNTW9tcTODbQSSEHI2ITXfWXhzTbLBEAlcfxy/N+nStNQFUKoCgdABivPnj47RR6VPLpbzlYEJKKSMEgZBpaKK8k9kKKKKACiiigAooooAKKKKAOE8Yf8h8/9cV/rW94J/5BDf8AXZv5CsHxh/yHz/1xX+tb3gn/AJBDf9dm/kK9Wt/ukfkePR/32XzOmoooryj2Dl/FWmnct/EOOFlx29D/AE/KuZr0ySNJY2jkUMjDBB7iuG1nR5NMnyuWt3PyP6exr2cFiFJezlv0PDx2GcZe1js9zMooor0jywooooAKfHI8Th4nZGHQqcGmUUAbFt4m1C3wJGWdf+mg5/MVrW/i62fi5gkiPqvzCuRormnhaM90dcMZWhs/vPQINa064x5d3GD6Odp/WrqurjKMGHqDmvMqckjxnMbsp/2TiuWWXR+zI645lL7UT0yuE8QxGLXJ/R8OPxFQR6rfxfcvJh7F8/zqK6vJ72QSXUnmOo2gkAcVphsLOjPmvdGeKxcK9PlSsyCiiiu880KKKKACiiigAooooAKKKKACuv8ACK402Y+sv9BXIV2vhZNuig/3pGP9P6VxY52o/M78vV6/yNmiiivBPoQooooA5/xf/wAgKf8A3k/nXKeGP+Rjtv8AgX/oJrq/F/8AyAp/95P51ynhj/kY7b/gX/oJr1cP/us/n+R4+K/3uHy/M9CrM8Rwmfw/dAdVUP8Akc1p0yaJZ4Xif7rqVP0NebCXLJS7Hq1I88HHueVUVJPC1vcSQyDDRsVP4VHX0yd9T5Rqzswoop0cbSyLHGMs5CqPUmgRc0vSrjVrryoBtVeXkPRRXcadoNjpyjy4hJL3lkGSf8Km0vTo9M09LeMDcBl2/vN3NXK8LEYqVR2jsfQ4bCRpRvJXkFIwDKVYBgeoIzmlorjO4wdV8LWt4rSWYFvP14+631Hb8K5KHSb2bUTZLCRMp+YHoo9SfSvS6QKoYsFAY8E45NdlLGVKcWnqcNbBU6klJadzK0jw/a6WocgTXHeRh0+g7VrVFdXUNnbtNcyCONepNcVq3im5vS0VmWt4OmQfmb6ntUwp1cTK/wCJdSrSwseX8Dqb/XbDTsrPMGk/55x/M3/1qwbnxrISRZ2iqP70rZP5CuWor0qeCpR+LU8qpj6svh0NiTxVqznidU9ljFRjxJqwP/H43/fK/wCFZdFdHsaS+yvuOb29V/af3m5D4t1SM/O0co9GTH8q1LTxrExC3ts0f+3Gdw/KuPorOWFoy6GkMXWh9r7z1C0v7W/j32kyyDuAeR9RVivKoZpLeUSQSNG69GU4NdZo3iwSMsGqYVjwsw4B+vp9a8+tgpQ1hqj06GPjN8s9H+B1NFAORkcg9DRXnnpBRRRQBwnjD/kPn/riv9a3vBP/ACCG/wCuzfyFYPjD/kPn/riv9a3vBP8AyCG/67N/IV6tb/dI/I8ej/vsvmdNUV0WFnMYzhxG20jscVLQRkEHoa8tOzueu1dWOQtPFl1GALqJZx/eHyt/hWl/wkel3kJiu0dVYYZXTI/SuUu4DbXk0LdY3K1DXvywlGfvJW9D52OMrw91u/qXtRtrSGTfYXSzQseF6Mv+NUaKK6oppWbuckmpO6VgooopkhRRRQAUUUUAFFFFABRRRQAUUUUAFFFFABRRRQAUUUUAFFFFABXf6HF5OiWqnglN358/1rg44zLKka9XYKPxr0mNBFEka9FUKPwrzMwl7sYnrZbH3pSHUUUV457QUUUUAc/4v/5AU/8AvJ/OuU8Mf8jHbf8AAv8A0E11fi//AJAU/wDvJ/OuU8Mf8jHbf8C/9BNerh/91n8/yPHxX+9w+X5noVFFFeUewcX4w04w3q3sY+Sbh/Zh/iP5VzdeoX1nHqFlJbTD5XHX+6exrza9s5bC8e3uBh0PXsR6ivbwdZThyPdHg46g4T51s/zIKs6ddrY6hFcvF5oiO4JnGT2qtRXa0pKzPPi3F3R1v/CcD/nwP/f3/wCtR/wnA/58D/39/wDrVyVFc31Oh2/M6/rtf+b8Edb/AMJwP+fA/wDf3/61A8bbmCrp5JJwAJev6VyVdD4R00XN813KMx2/3c93/wDrVnUw9CnBya/M1pYnE1ZqClv5I7SFneFGlTy3IyyZztPpmmXV1FZWr3Fw22NBkn19qmrhPE+rm/vjbwt/o8Bxx/E3c/0rzKFF1p26Hq4iuqFO/Upavq8+rXW+QlYlP7uPPCj/ABrPoor34xUVyxPm5SlOXNLcKKKKokKKKKACiiigAooooA6Pw54hNo62d6+YGOEcn/Vn0+n8q7WvJ67bwpq5u7Y2Vw2ZYRlCf4l/+tXlYzDpL2kfmexgcS2/ZT+X+R0VFFFeWeucJ4w/5D5/64r/AFre8E/8ghv+uzfyFYPjD/kPn/riv9a3vBP/ACCG/wCuzfyFerW/3SPyPHo/77L5nTUUUV5R7ByXiuxMd0l4g+SQbX9mHT9P5Vz1ekXdrHe2r28wyjjH0964C/sZtPu2gnHI5VuzD1Fe5gq6nDke6PAx1Bwn7RbP8ytRRRXeecFFFFABRRRQAUUUUAFFFFABRRRQAUUUUAFFFFABRRRQAUUUUAFFFFAGp4dtvtOtRZHyxZkP4dP1xXdVz/hO08uzkumHMrbV+g/+v/KugrwcbU56rXY+iwNPkopvrqFFFFcR3BRRRQBz/i//AJAU/wDvJ/OuU8Mf8jHbf8C/9BNdX4v/AOQFP/vJ/OuU8Mf8jHbf8C/9BNerh/8AdZ/P8jx8V/vcPl+Z6FRRRXlHsBWZreixavbY4S4Qfu5P6H2rToqoylCXNHcicIzjyy2PLLq1ms7hoLlCki9Qf51FXpmo6Va6pD5d0nI+644ZfpXF6n4avdPJeNTcQj+NByPqK9uhi4VFaWjPBxGDnSd46ox6KKK7DhCvR9Bs/sOiwRkfOy73+p5rgdPt/tWpW8HXzJFB+mea9P8ApXmZhPRQPWy2Gsp/IzPEF/8A2fo8rocSyfu0+p7/AJV51XS+NLrffQWwPEabyPc//WFc1W+Dp8tK/c58dU561uwUUUV2HCFXYtH1Ce1+0RWsjRYyGA6j2HejSLMX+rW9u/3GbLfQcmvSlAVQqgAAYAHauLE4l0WoxWp34XCKunKT0PKKK3PFditpq/mRrhLhd+B/e71h11U5qpBSXU5KkHTm4PoSQQS3MyxQRtJI3RVHJqa802708r9sgaLd0J6H8a6nwbZLHYyXjDMkrFFPoo/+vW1qlkmoabNbuASykqfRh0NcVTGclXktod9PA89Hnvq9jzKijGOD1or0DzAqxYXj2F9Fcx9Y2yR6juPyqvRSaTVmNNp3R6tHIssSSRnKuoZT6g06sXwrdG40KNW+9Cxj/DqP51tV81UjyTcex9VTn7SCl3OE8Yf8h8/9cV/rW94J/wCQQ3/XZv5CsHxh/wAh8/8AXFf61veCf+QQ3/XZv5CvSrf7pH5Hl0f99l8zpqKKK8o9gKqahp0GpW/lTjkcq46qat0VUZOLuiZRUlaWxwOpaPdaaxMi74s8SqOPx9Kz69EGo2Mu5PtMJIJVlZgPwway73RtHny6zx2zeqSDH5V69LGParE8WrgVvSkrHH0VcvrO3tWxBfR3PPRVPH49Kp16MZKSujzZRcXZhRRRTJCiiigAooooAKKKKACiiigAooooAKKKKACiiigAqSCF7m4jhjGXkYKKjrpfCmn7ne+lXhfljz69z/T86yrVFSg5G1Ck6tRQR0ltAlraxwR/djUKKloor5ptt3Z9SkkrIKKKKQwooooA5/xf/wAgKf8A3k/nXKeGP+Rjtv8AgX/oJrq/F/8AyAp/95P51ynhj/kY7b/gX/oJr1cP/us/n+R4+K/3uHy/M9Coooryj2AooooAKKKKAKF5oun3xJuLZd5/jX5W/MVkT+CrdmJt7qSMejqG/wAK6aitoV6sPhZhPD0qmsonNaZ4Vl0/VIrprmORIyTtCkHpiulooqalWVV3kVSpQpLlged+JJPN8Q3X+ywX8gKy6v65n+3rzP8Az1NUK+hpK1OK8kfNVnepJ+bCiiitDIv6LqCaXqS3MsbSKFI2qeea6P8A4Ta1/wCfOb/voVxtFc9TD06kuaSOmliatKPLB6Gxr+tRaw0BiheLygQd5BznHpWPRRWsIRhHljsY1JyqScpbnS6R4og03TI7WS2kdkJyysMHJzV3/hNrX/nzm/76FcbRWEsJSk22jpjjK0YqKew523SMw4BJOKbRRXUcYUUUUAdb4IkO28izxlWA/MV1dcf4J/4+bv8A3F/ma7CvBxitWZ9HgnehH+upwnjD/kPn/riv9a3vBP8AyCG/67N/IVg+MP8AkPn/AK4r/Wt7wT/yCG/67N/IV1Vv90j8jjo/77L5nTUUUV5R7AUUUUAcd4o077Pffao1/dz9fZv/AK/+NYWK9HvLSK+tXt5hlXHX0PrXBX9hNp100M491bsw9RXuYOupw5HujwMdh3TnzrZlWiiiu884KKKKACiiigAooooAKKKKACiiigAooooAKKKKACiilALMAoJJOAB3oAsWNnJf3iW8XVjyf7o7mvQbeBLW3SGEYRBgCs7QdJGm2m+Uf6RKMv8A7I9K1a8HGV/az5Y7I+hwWH9lDmluwoooriO8KKKKACiiigDn/F//ACAp/wDeT+dcp4Y/5GO2/wCBf+gmur8X/wDICn/3k/nXKeGP+Rjtv+Bf+gmvVw/+6z+f5Hj4r/e4fL8z0KiiivKPYCiiigAooooAKKKKACiiigDz3xPF5XiG4/29rj8RWTXVeNbQiS2u1HBBjY+/Uf1rla+iw0ualFnzOKhyVpIKKKK3OYnSyupUDxW0zqejLGSDTv7Ovf8Anzn/AO/R/wAK63wdfCXTntGPzwNkDPVT/wDXros15tXGTpzcXE9WjgYVYKalueYf2de/8+c//fo/4Uf2de/8+c//AH6P+Fen5ozWX9oS/lNf7Nj/ADHmH9nXv/PnP/36P+FH9nXv/PnP/wB+j/hXp+aM0f2hL+UP7Nj/ADHlctvPb48+GSPd03qRn86jrd8WXwu9X8lDlLddn/Au/wDhWFXp05OcFJrc8qrFQm4xd7BRRRWhkdf4JhIgu5j0ZlQfgM/1rqayvDdp9k0KAMMNJmRs+/T9MVq187iJc9WTPp8NDkoxTOE8Yf8AIfP/AFxX+tb3gn/kEN/12b+QrB8Yf8h8/wDXFf61veCf+QQ3/XZv5Cu6t/ukfkefR/32XzOmoooryj2AooooAKrX1hBqNuYrlcj+Fh1U+oqzRTjJxd0KUVJWZwupaBd6eSyqZoezoOn1HasuvTqoXeiWF4S0sAVz/GnymvUpZhpaojya2XXd6b+TOAorqZ/B6E5trpl9pFz+orD1HTTpsgje4ilfuqE5X61308RSqO0XqedUw1WkryWhSooorc5wooooAKKKKACiiigAooooAKKKKACuq8OaIY9t9drh+sSHt7mo9B8P5K3d+nHWOIj9T/hXUV5WLxX/AC7h8z2MHhP+XlT5IKKKK8k9gKKKKACiiigAooooA5/xf/yAp/8AeT+dcp4Y/wCRjtv+Bf8AoJrq/F//ACAp/wDeT+dcp4Y/5GO2/wCBf+gmvVw/+6z+f5Hj4r/e4fL8z0KiiivKPYCiiigAooooAKKKKACiiigClq1gNS0ua3/iIyh9GHSvNWVkYq4KspwQexr1euP8WaOY5TqNuvyP/rgOx/vfjXo4Gtyv2b6nl4+g5R9pHocvRRRXsHiFmwvpdOvUuYD8y9QejDuDXoem6nb6pbCW2bn+ND1Q+9eZ1Jb3E1rMJbaRonHRlOK5cRhlWV9mdmGxUqDtuj1SiuLtfGd3GoW6gjn/ANoHaf8ACrJ8brt+WxOfeT/61eW8HWT2PWWOoNXudXWHr/iCPToWt7Zg90wxxz5fuff2rnr7xXqF2pSIrbIf+ef3vzrEJJJJOSepNdVHAtPmqfcclfHprlpfeKSSSScknJJ70lFFeoeQFXtH086lqkUGPkzukPoo6/4VSALEBRkk4AHeu/8ADmkf2XY7ph/pE2C/+yOy1zYmsqUPNnXhaDrVPJbmuAFAAGABgCloor58+kOE8Yf8h8/9cV/rW94J/wCQQ3/XZv5CsHxh/wAh8/8AXFf61veCf+QQ3/XZv5CvVrf7pH5Hj0f99l8zpqKa8iR48x1XPTccZpPOi/56J/30K8uzPXuh9FRm5gX700Y+rCoX1Oxj+/dwj/gYpqMnshOcVuy1RWXL4k0yLpOZD6IpNZ1x4vQZFras3oZGx+graOGrS2iYSxVGO8jpaqXmqWdgv+kzKrdkHLH8K4+68QahdZBm8pT/AAxDH69azSSSSSST1Jrtp5e96j+44amZLamvvN3UfFFxc5jswYI/738R/wAKwiSSSTknqT3pKK9KnShTVoo8upVnVd5u4UUUVoZBRRRQAUUUUAFFFFABRRV/TtHutSbMS7Ys8yN0/D1qZSjBXk7FRhKb5Yq7KUcbyyKkal3Y4CqMk11ujeHFtttxfAPN1WPqE/xNaGm6PbaYn7pd8pHzSN1P+FX68fEY1z92noj28NgVD3qmrCiiivOPTCiiigAooooAKKKKACiiigDn/F//ACAp/wDeT+dcp4Y/5GO2/wCBf+gmur8X/wDICn/3k/nXKeGP+Rjtv+Bf+gmvVw/+6z+f5Hj4r/e4fL8z0KiiivKPYCiiigAooooAKKKKACiiigAproskbJIoZWGCCOCKdRQBwWveH5NNkM9sC9ox69TH7H296xK9XZQ6lWAKkYII61y+reEQ5abSyEPUwsePwPb6V62Hxia5an3njYnAtPmpfcchRUtxbTWspjuYmicdmGKir0001dHlNNOzCiiigQUUUUAFABJAAyT0Aq5YaTeak+LWEle8jcKPxrs9H8OW2mYlkxPc/wB8jhfoP61zVsTCktdX2OqhhalZ6aLuUvDnhw2xW9v1/fdY4z/B7n3rpqKK8OpUlVlzSPoKVKNKPLEKKKKzNThPGH/IfP8A1xX+tb3gn/kEN/12b+QrB8Yf8h8/9cV/rW94J/5BDf8AXZv5CvVrf7pH5Hj0f99l8zo5YY54zHMiyIeqsMiufv8AwnE+X09/LP8AzzflfwPUV0dFefTrTpP3WelVo06qtNHnV3p11Yti6gZB2bGVP41Wr01lDKVYAg9QR1rKu/Den3WWWMwOe8ZwPy6V6dPME9KiPLq5bJa0395w9Fb9z4Tu48m2lSYeh+U/4VlXGm3trnz7aRR67cj8xXdCtTn8Mjz50KtP4olWiiitTEKKKKACiiigAooooAKKtW+nXl1/qLaRx67cD8zWra+E7qTBupUhX0HzH/Csp1qcPiZtChVqfDEwKuWWl3l+3+jwkr3duFH411tn4dsLTDGMzOP4pef06VqgBQABgDoBXBUzBbU0ehSy5vWo/uMHT/C1vb4e8b7RJ/d6KP8AGt1VCqFUAAdAB0paK8ypVnUd5M9WnShSVoKwUUUVmahRRRQAUUUUAFFFFABRRRQAUUUUAc/4v/5AU/8AvJ/OuU8Mf8jHbf8AAv8A0E11fi//AJAU/wDvJ/OuU8MHHiK2/wCBf+gmvVw/+6z+f5Hj4r/e4fL8z0KiiivKPYCiiigAooooAKKKKACiiigAooooAKKKKAIp7aC6j2XMSSr6Ouaxbnwfp8xJgaS3J7Kcj8jW/RWkKs4fC7GU6NOp8auchJ4IlH+qvUP+8hFRDwTeZ5uoMfRv8K7Siuj65W7nP9RodvxOTi8Ec/v73j0SP/E1q2nhjTLU7jCZ29ZTn9Ola9FZyxNWW8jSGFow1URFUIoVAFUdABgCloornOkKKKKACiiigDhPGH/IfP8A1xX+tb3gn/kEN/12b+QrB8X/APIfP/XFf61veCf+QQ3/AF2b+Qr1a3+6R+R49H/fZfM6aiiivKPYCiiigAooooAglsbWf/XW8T+7IKpyeHdMk/5d9h/2GIrTorSNScfhbM5UqcviijDbwnYH7rzL/wACB/pUZ8IWva4mH5f4V0FFaLFVl9oyeEoP7Jz48IWve4m/T/CpF8J2A+887f8AAgP6VuUUfWqz+0CwlBfZMuPw5pkf/Lvv/wB9yauw2NpB/qbaJPcIKnorOVWct2zWNKnH4YoKKKKzNAooooAKKKKACiiigAooooAKKKKACiiigAooooAKKKKAM3WbP+0NOuLYfedfl+o5FebRSzWV4siZjmhfPI6EV6pJ/rDWLq3hy11RjKCYJ+7qMhvqK7sLiI07wnszz8ZhpVbThujOj8bR+WPOs33452OMfrTv+E2t/wDnzl/76FUm8FXYb5bqAj3BFJ/whV7/AM/MH6/4VvyYPv8Amc3Pju35F7/hNrf/AJ85f++hR/wm1v8A8+cv/fQqj/whV7/z8wfr/hR/whV7/wA/MH6/4UcmD7/mPnx3b8i9/wAJtb/8+cv/AH0KP+E2t/8Anzl/76FUf+EKvf8An5g/X/Cj/hCr3/n5g/X/AAo5MH3/ADDnx3b8i9/wm1v/AM+cv/fQo/4Ta3/585f++hVH/hCr3/n5g/X/AAo/4Qq9/wCfmD9f8KOTB9/zDnx3b8i9/wAJtb/8+cv/AH0KP+E2t/8Anzl/76FUf+EKvf8An5g/X/Cj/hCr3/n5g/X/AAo5MH3/ADDnx3b8i9/wm1v/AM+cv/fQo/4Ta3/585f++hVH/hCr3/n5g/X/AAo/4Qq9/wCfmD9f8KOTB9/zDnx3b8i9/wAJtb/8+cv/AH0KP+E2t/8Anzl/76FUf+EKvf8An5g/X/Cj/hCr3/n5g/X/AAo5MH3/ADDnx3b8i9/wm1v/AM+cv/fQo/4Ta3/585f++hVH/hCr3/n5g/X/AAo/4Qq9/wCfmD9f8KOTB9/zDnx3b8i9/wAJtb/8+cv/AH0KP+E2t/8Anzl/76FUf+EKvf8An5g/X/Cj/hCr3/n5g/X/AAo5MH3/ADDnx3b8i9/wm1v/AM+cv/fQo/4Ta3/585f++hVH/hCr3/n5g/X/AAo/4Qq9/wCfmD9f8KOTB9/zDnx3b8i9/wAJtb/8+cv/AH0KP+E2t/8Anzl/76FUf+EKvf8An5g/X/Cj/hCr3/n5g/X/AAo5MH3/ADDnx3b8i9/wm1v/AM+cv/fQo/4Ta3/585f++hVH/hCr3/n5g/X/AAo/4Qq9/wCfmD9f8KOTB9/zDnx3b8i9/wAJtb/8+cv/AH0KR/G0O0+XZSFu25xiqX/CFXv/AD8wfr/hSjwVeZ5uoAPoaOTB9/zDnx3b8jCvLubULx7ibmSQ9AOnoBXoXh2xbT9KghkGJGy7j0J7VS0rwvbadIJpm+0TrypIwq/QVvR/6wVjisRGaUIbI3wmGlTbqVN2T0UUVwHohRRRQAUUUUAFFFFABRRRQAUUUUAFFFFABRRRQAUUUUAFFFFABRRRQAUUUUAFFFFABRRRQAUUUUAFFFFABRRRQAUUUUAFFFFABRRRQAUUUUAFFFFABRRRQAUUUUAFFFFABRRRQAUUUUAFFFFABRRRQAUUUUAFFFFABRRRQAUUUUAFFFFABRRRQAUUUUAFFFFABRRRQAUUUUAFFFFABRRRQAUUUUAFFFFABRRRQAUUUUAFFFFABRRRQB//2Q==)"
      ]
    },
    {
      "cell_type": "markdown",
      "metadata": {
        "id": "Bxj_Yq-iWJxb"
      },
      "source": [
        "This notebook is supposed to give an overview over the used functionalities. We will show how to use BERT - Bidirectional Encoder Representations from Transformers - with PyTorch library (huggingface) to fine-tune a pretrained model in tweet classification. \n",
        "\n",
        "The following pretrained BERT models can be used and are available in transformers huggingface: \n",
        "\n",
        "*   *bert-base-german-cased*\n",
        "*   *bert-base-german-dbmdz-cased*\n",
        "*   *bert-base-german-dbmdz-uncased*\n",
        "*   *distilbert-base-german-cased*\n",
        "\n",
        "After using these models to extract (hopefully) high quality features from our text data, we aim to fine-tune them on our specific task using a manually labeled sample of German tweets to gain state of the art predictions.\n",
        "\n",
        "All in all the tweets will be classified into *positive* and *negative* classes using a pretrained BERT model. We will take it, add an untrained layer of neurons on the end and train a new model specifically for the classification task. \n",
        "\n",
        "\n",
        "Advantages of fine-tuning:  \n",
        "\n",
        "*   Fast, because we already have pretrained layers of the network (only 2-4 epochs after adding 1 fully connected layer on top are enough to train as the authors recommend)\n",
        "*   Less data is sometimes enough to achieve good performance\n",
        "*   Usually preferable results: because of task-specific adjustments of the weights\n",
        "\n",
        "\n",
        "\n"
      ]
    },
    {
      "cell_type": "markdown",
      "metadata": {
        "id": "SGC297qbdzRf"
      },
      "source": [
        "## Prepare GPU\n",
        "\n",
        "1. Check: Edit --> Notebook settings -> Hardware accelerator -> *GPU* \n",
        "\n",
        "\n",
        "2. You will need access to the following files: *data_germeval_2017.tsv*, *data_labeled_processed.csv*\n"
      ]
    },
    {
      "cell_type": "markdown",
      "metadata": {
        "id": "ue4Hg8-LMbkU"
      },
      "source": [
        "## Data\n",
        "\n",
        "1. On the left command pane, move to the `Files` section.\n",
        "2. Select 'Upload to the session storage'.\n",
        "3. Upload the `data_germeval_2017.tsv` and `data_labeled_processed.csv` data from the course website (the data will vanish as soon as you terminate the colab session)."
      ]
    },
    {
      "cell_type": "code",
      "metadata": {
        "id": "Bv04gWs2Yheg",
        "colab": {
          "base_uri": "https://localhost:8080/"
        },
        "outputId": "2544516c-d5a7-4983-bb67-1202ca1360dc"
      },
      "source": [
        "# Where are you now?\n",
        "import os, sys\n",
        "print(\"My current working directory is in folder: \", os.getcwd(), \".\")"
      ],
      "execution_count": null,
      "outputs": [
        {
          "output_type": "stream",
          "text": [
            "My current working directory is in folder:  /content .\n"
          ],
          "name": "stdout"
        }
      ]
    },
    {
      "cell_type": "markdown",
      "metadata": {
        "id": "26YQ5UYt1aGw"
      },
      "source": [
        "## Google Colab GPU Connection"
      ]
    },
    {
      "cell_type": "markdown",
      "metadata": {
        "id": "EY5QDtKc4pCe"
      },
      "source": [
        "Otherwise training a large NN may take a very long time. "
      ]
    },
    {
      "cell_type": "code",
      "metadata": {
        "id": "DpojrKi87B0j",
        "colab": {
          "base_uri": "https://localhost:8080/"
        },
        "outputId": "43c4591f-025c-4db6-e04a-847a0a4976d5"
      },
      "source": [
        "import tensorflow as tf\n",
        "\n",
        "# Get the GPU device name.\n",
        "device_name = tf.test.gpu_device_name()\n",
        "\n",
        "# The device name should look like the following:\n",
        "if device_name == '/device:GPU:0':\n",
        "    print('Found GPU at: {}'.format(device_name))\n",
        "else:\n",
        "    raise SystemError('GPU device not found')"
      ],
      "execution_count": null,
      "outputs": [
        {
          "output_type": "stream",
          "text": [
            "Found GPU at: /device:GPU:0\n"
          ],
          "name": "stdout"
        }
      ]
    },
    {
      "cell_type": "code",
      "metadata": {
        "id": "RLk647UpAUMZ",
        "colab": {
          "base_uri": "https://localhost:8080/"
        },
        "outputId": "02fac54b-d58a-460c-f149-96b918054a4c"
      },
      "source": [
        "# Identify and specify the GPU as the device\n",
        "import torch\n",
        "\n",
        "# If there's a GPU available...\n",
        "if torch.cuda.is_available():    \n",
        "\n",
        "    # Tell PyTorch to use the GPU.    \n",
        "    device = torch.device(\"cuda\")\n",
        "\n",
        "    print('There are %d GPU(s) available.' % torch.cuda.device_count())\n",
        "\n",
        "    print('We will use the GPU:', torch.cuda.get_device_name(0))\n",
        "\n",
        "# If not...\n",
        "else:\n",
        "    print('No GPU available, using the CPU instead.')\n",
        "    device = torch.device(\"cpu\")"
      ],
      "execution_count": null,
      "outputs": [
        {
          "output_type": "stream",
          "text": [
            "There are 1 GPU(s) available.\n",
            "We will use the GPU: Tesla T4\n"
          ],
          "name": "stdout"
        }
      ]
    },
    {
      "cell_type": "markdown",
      "metadata": {
        "id": "VLhki6Q67HB5"
      },
      "source": [
        "## Fine-Tuning "
      ]
    },
    {
      "cell_type": "markdown",
      "metadata": {
        "id": "XV4Ao1h59Tbj"
      },
      "source": [
        "Install Huggingface Library / transformers package and specify the pretrained transformer model. (Uncased means that the texts have only lowercase letters)\n"
      ]
    },
    {
      "cell_type": "markdown",
      "metadata": {
        "id": "ZtnIk5ybq1v6"
      },
      "source": [
        "### Exercise 1\n",
        "*Try another pretrained model available in transformers library.*"
      ]
    },
    {
      "cell_type": "code",
      "metadata": {
        "id": "5ynJrSjrQLQu"
      },
      "source": [
        "!pip install transformers\n",
        "from transformers import BertTokenizer\n",
        "\n",
        "pretrained_model = \"bert-base-german-cased\" \n",
        "\n",
        "# Load the BERT tokenizer.\n",
        "print('Loading BERT tokenizer...')\n",
        "tokenizer = BertTokenizer.from_pretrained(pretrained_model) # Additionally do lower case for pretrained uncased models"
      ],
      "execution_count": null,
      "outputs": []
    },
    {
      "cell_type": "markdown",
      "metadata": {
        "id": "Qr-IYbltg_em"
      },
      "source": [
        "### Exercise 2\n",
        "*Pre-process the Twitter data set.*"
      ]
    },
    {
      "cell_type": "markdown",
      "metadata": {
        "id": "JKXUHB8CIoNV"
      },
      "source": [
        "Load and prepare the tweets and labels "
      ]
    },
    {
      "cell_type": "code",
      "metadata": {
        "id": "pNnv3aRgczlM"
      },
      "source": [
        "# Prepare path to the dataset containg tweets\n",
        "filename_tweets = \"_______________\" # filename_tweets"
      ],
      "execution_count": null,
      "outputs": []
    },
    {
      "cell_type": "code",
      "metadata": {
        "id": "-ejwgMfT7D-x"
      },
      "source": [
        "# Load the dataset into a pandas dataframe\n",
        "import pandas as pd\n",
        "df = pd.read_csv(data_dir_tweets, delimiter = _______________, header = 0) # ','"
      ],
      "execution_count": null,
      "outputs": []
    },
    {
      "cell_type": "code",
      "metadata": {
        "id": "XeDjf_3ndl4C"
      },
      "source": [
        "# Look at the shape of the dataframe\n",
        "df._______________ # shape"
      ],
      "execution_count": null,
      "outputs": []
    },
    {
      "cell_type": "code",
      "metadata": {
        "id": "Mryi3QOLdjQK"
      },
      "source": [
        "# Look at the first rows of the dataframe\n",
        "df._______________ # head()"
      ],
      "execution_count": null,
      "outputs": []
    },
    {
      "cell_type": "code",
      "metadata": {
        "id": "KUb6n3OueE5u"
      },
      "source": [
        "# Convert labels to numeric: 1 for \"positive\", 0 for \"negative\" and call the column \"label_binary\"\n",
        "df['label_binary'] = [1 if label == _______________ else _______________ for label in df.label] # \"positive\" # 0"
      ],
      "execution_count": null,
      "outputs": []
    },
    {
      "cell_type": "code",
      "metadata": {
        "id": "GWqiYQB_dlBw"
      },
      "source": [
        "# Drop NA values in the column \"label\"\n",
        "df = df.dropna(subset=['label'])"
      ],
      "execution_count": null,
      "outputs": []
    },
    {
      "cell_type": "code",
      "metadata": {
        "id": "lrOvWVj0dolR"
      },
      "source": [
        "# Get the lists of tweets and their labels.\n",
        "tweets = df.twitter_full_text.values\n",
        "labels = df.label_binary.values"
      ],
      "execution_count": null,
      "outputs": []
    },
    {
      "cell_type": "code",
      "metadata": {
        "id": "R_4pZEWFfT90"
      },
      "source": [
        "# Print the second tweet in the dataframe (Take care of right indexing!)\n",
        "tweets[1]"
      ],
      "execution_count": null,
      "outputs": []
    },
    {
      "cell_type": "code",
      "metadata": {
        "id": "1QiOSbaOfkRi"
      },
      "source": [
        "# Is the sentiment expressed in this tweet negative or positive? Check by printing the label.\n",
        "_______________[_______________] # labels[1]"
      ],
      "execution_count": null,
      "outputs": []
    },
    {
      "cell_type": "code",
      "metadata": {
        "id": "ow1HwkWUhPMP"
      },
      "source": [
        "# Count the occurrences of positive and negative tweets\n",
        "import numpy as np\n",
        "np.count_nonzero(_______________ == _______________)  # labels == 1"
      ],
      "execution_count": null,
      "outputs": []
    },
    {
      "cell_type": "markdown",
      "metadata": {
        "id": "ugeeuOiwkJiF"
      },
      "source": [
        "GermEval Data Preparation"
      ]
    },
    {
      "cell_type": "code",
      "metadata": {
        "id": "jm-y_1C6iFZE"
      },
      "source": [
        "# Prepare path to the dataset containg GermEval texts\n",
        "filename_germeval = \"data-germeval-2017-train.tsv\"\n",
        "data_dir_germeval = os.path.join(path, filename_germeval)"
      ],
      "execution_count": null,
      "outputs": []
    },
    {
      "cell_type": "code",
      "metadata": {
        "id": "fKmrPBtTja5r"
      },
      "source": [
        "# Load the dataset into a pandas dataframe\n",
        "import pandas as pd\n",
        "germeval = pd.read_csv(data_dir_germeval, \n",
        "                   sep='\\t',\n",
        "                   header=None, \n",
        "                   names = [\"full_text\", \"0\", \"label\", \"2\"])"
      ],
      "execution_count": null,
      "outputs": []
    },
    {
      "cell_type": "code",
      "metadata": {
        "id": "5NHjRwmajlHC"
      },
      "source": [
        "# Further preprocessing\n",
        "germeval['label_binary'] = [1 if label == 'positive' else 0 for label in germeval.label]\n",
        "germeval = germeval.loc[lambda x: x['label'] != \"neutral\"]"
      ],
      "execution_count": null,
      "outputs": []
    },
    {
      "cell_type": "code",
      "metadata": {
        "id": "E-3Xsv0PJ0X0"
      },
      "source": [
        "# Get the lists of tweets and their labels -> Use only the first 99 rows\n",
        "tweets_germeval = germeval.full_text.values[0:99]\n",
        "labels_germeval = germeval.label_binary.values[0:99]"
      ],
      "execution_count": null,
      "outputs": []
    },
    {
      "cell_type": "markdown",
      "metadata": {
        "id": "utKWWD02IyBh"
      },
      "source": [
        "First, we need to tokenize our text to be able to feed it into the BERT model. \n",
        "\n",
        "Below an example of tokenized and raw tweet versions is shown. To tokenize the text we have to specify and use the pretrained BERT because each model has a fixed vocabulary (containing tokens, so wordpieces) and the BERT tokenizer handles words which are not in the certain vocabulary in a specific way.\n",
        "\n",
        "Each token is then mapped to its index in the tokenizer vocabulary."
      ]
    },
    {
      "cell_type": "code",
      "metadata": {
        "id": "iZL1eSQeVs6-"
      },
      "source": [
        "# Print the raw tweet.\n",
        "print('Raw: ', tweets[0])\n",
        "\n",
        "# Print the tweet split into tokens.\n",
        "print('Tokenized: ', tokenizer.tokenize(tweets[0]))\n",
        "\n",
        "# Print the tweet mapped to token ids.\n",
        "print('Token IDs: ', tokenizer.convert_tokens_to_ids(tokenizer.tokenize(tweets[0])))"
      ],
      "execution_count": null,
      "outputs": []
    },
    {
      "cell_type": "markdown",
      "metadata": {
        "id": "fZJe8-JoKAaL"
      },
      "source": [
        "In the next step we add special tokens to the start *CLS* and end of each tweet *SEP*."
      ]
    },
    {
      "cell_type": "code",
      "metadata": {
        "id": "AKR6G5w4dFsy"
      },
      "source": [
        "# Tokenize all of the tweets and map the tokens to their word IDs.\n",
        "input_ids = []\n",
        "\n",
        "# For every tweet...\n",
        "for tweet in tweets:\n",
        "    encoded_tweet = tokenizer.encode(\n",
        "                        tweet, # Sentence to encode.\n",
        "                        add_special_tokens = True, # Add '[CLS]' and '[SEP]'\n",
        "                   )\n",
        "    \n",
        "    # Add the encoded tweet to the list.\n",
        "    input_ids.append(encoded_tweet)\n",
        "\n",
        "# Print sentence 0, now as a list of IDs.\n",
        "print('Original: ', tweets[0])\n",
        "print('Token IDs:', input_ids[0])\n",
        "\n"
      ],
      "execution_count": null,
      "outputs": []
    },
    {
      "cell_type": "code",
      "metadata": {
        "id": "AZ_QN3DKkUFy"
      },
      "source": [
        "# Do the same for GermEval \n",
        "input_ids_germeval = []\n",
        "\n",
        "# For every tweet...\n",
        "for tweet_germeval in tweets_germeval:\n",
        "    encoded_tweet = tokenizer.encode(\n",
        "                        tweet_germeval,                      # Sentence to encode.\n",
        "                        add_special_tokens = True, # Add '[CLS]' and '[SEP]'\n",
        "                   )\n",
        "    \n",
        "    # Add the encoded tweet to the list.\n",
        "    input_ids_germeval.append(encoded_tweet)\n",
        "\n",
        "# Print sentence 0, now as a list of IDs.\n",
        "print('Original: ', tweets_germeval[0])\n",
        "print('Token IDs:', input_ids_germeval[0])"
      ],
      "execution_count": null,
      "outputs": []
    },
    {
      "cell_type": "markdown",
      "metadata": {
        "id": "Gk4o_F6XKIUF"
      },
      "source": [
        "Then we pad and truncate all tweets to a constant fixed length "
      ]
    },
    {
      "cell_type": "code",
      "metadata": {
        "colab": {
          "base_uri": "https://localhost:8080/"
        },
        "id": "s_tBkChIdyOC",
        "outputId": "08b84531-7a18-44b8-acbd-eb4b2fb50080"
      },
      "source": [
        "print('Max sentence length: ', max([len(tweet) for tweet in input_ids]))"
      ],
      "execution_count": null,
      "outputs": [
        {
          "output_type": "stream",
          "text": [
            "Max sentence length:  81\n"
          ],
          "name": "stdout"
        }
      ]
    },
    {
      "cell_type": "code",
      "metadata": {
        "colab": {
          "base_uri": "https://localhost:8080/"
        },
        "id": "hTux34E5kYND",
        "outputId": "0045a364-1d54-4b9e-aa16-d72fb391e459"
      },
      "source": [
        "print('Max sentence length for GermEval data: ', max([len(tweet_germeval) for tweet_germeval in input_ids_germeval]))"
      ],
      "execution_count": null,
      "outputs": [
        {
          "output_type": "stream",
          "text": [
            "Max sentence length for GermEval data:  666\n"
          ],
          "name": "stdout"
        }
      ]
    },
    {
      "cell_type": "code",
      "metadata": {
        "id": "CTtngalseGJs"
      },
      "source": [
        "from keras.preprocessing.sequence import pad_sequences\n",
        "\n",
        "\n",
        "# Set the maximum sequence length.\n",
        "# A bit larger than the maximum training tweet length of 91/110... (with germeval 3202/3300 -> bert has a max length limit of tokens = 512, we cut the longer texts off and only use the first 512 Tokens)\n",
        "MAX_LEN = 250\n",
        "\n",
        "print('\\nPadding/truncating all sentences to %d values...' % MAX_LEN)\n",
        "\n",
        "print('\\nPadding token: \"{:}\", ID: {:}'.format(tokenizer.pad_token, tokenizer.pad_token_id))\n",
        "\n",
        "# Pad our input tokens with value 0.\n",
        "# \"post\" - pad and truncate at the end of the sequence, as opposed to the beginning.\n",
        "input_ids = pad_sequences(input_ids, maxlen=MAX_LEN, dtype=\"long\", \n",
        "                          value=0, truncating=\"post\", padding=\"post\")\n",
        "\n",
        "# Pad our input tokens with value 0 for Germeval data \n",
        "input_ids_germeval = pad_sequences(input_ids_germeval, maxlen=MAX_LEN, dtype=\"long\", \n",
        "                          value=0, truncating=\"post\", padding=\"post\")\n",
        "\n",
        "print('\\nDone.')"
      ],
      "execution_count": null,
      "outputs": []
    },
    {
      "cell_type": "markdown",
      "metadata": {
        "id": "vstmJJnvOEJ6"
      },
      "source": [
        "Create attention masks which indicates which tokens are words and which are padding (if token ID is 0 then it is padding and the attention mask is set to 0)"
      ]
    },
    {
      "cell_type": "code",
      "metadata": {
        "id": "RoRYw4_jg4QP"
      },
      "source": [
        "# Create attention masks\n",
        "attention_masks = []\n",
        "\n",
        "# For each sentence...\n",
        "for tweet in input_ids:\n",
        "    \n",
        "    att_mask = [int(token_id > 0) for token_id in tweet]\n",
        "    \n",
        "    # Store the attention mask for each tweet.\n",
        "    attention_masks.append(att_mask)"
      ],
      "execution_count": null,
      "outputs": []
    },
    {
      "cell_type": "code",
      "metadata": {
        "id": "Yinz_P3vk1oJ"
      },
      "source": [
        "# Create attention masks for Germeval data \n",
        "attention_masks_germeval = []\n",
        "\n",
        "# For each sentence...\n",
        "for tweet_germeval in input_ids_germeval:\n",
        "    \n",
        "    att_mask = [int(token_id > 0) for token_id in tweet_germeval]\n",
        "    \n",
        "    # Store the attention mask for each tweet.\n",
        "    attention_masks_germeval.append(att_mask)"
      ],
      "execution_count": null,
      "outputs": []
    },
    {
      "cell_type": "markdown",
      "metadata": {
        "id": "6Vp0fFEsOifw"
      },
      "source": [
        "Now, we use train_test_split to split our data into train, test sets first  and then split the initial train set further into a final train set and validation set for training\n"
      ]
    },
    {
      "cell_type": "markdown",
      "metadata": {
        "id": "3UT0FM31qLDR"
      },
      "source": [
        "### Exercise 3\n",
        "*Split into train and test sets.*"
      ]
    },
    {
      "cell_type": "code",
      "metadata": {
        "id": "oV4b99xCgEsu"
      },
      "source": [
        "# Without-GermEval-case\n",
        "from sklearn.model_selection import train_test_split\n",
        "import numpy as np\n",
        "\n",
        "# Use 80% for training and 20% for validation.\n",
        "train_inputs2, test_inputs, train_labels2, test_labels = train_test_split(input_ids, labels, \n",
        "                                                            random_state = _______________, test_size = _______________, stratify = labels) # 0.2\n",
        "\n",
        "# Do the same for the masks.\n",
        "train_masks2, test_masks, _, _ = train_test_split(attention_masks, labels,\n",
        "                                             random_state = _______________, test_size = _______________, stratify = labels) # 0.2\n",
        "\n",
        "\n",
        "# Use 20% of train set as validation set \n",
        "train_inputs, validation_inputs, train_labels, validation_labels = train_test_split(train_inputs2, train_labels2, \n",
        "                                                                                    test_size = _______________, random_state = _______________)  # 0.2\n",
        "\n",
        "# Do the same for the masks.\n",
        "train_masks, validation_masks, _, _ = train_test_split(train_masks2, _______________, # train_labels2\n",
        "                                             random_state=2020, test_size=0.2)    "
      ],
      "execution_count": null,
      "outputs": []
    },
    {
      "cell_type": "code",
      "metadata": {
        "id": "RPxoRdC5-7YD"
      },
      "source": [
        "# How many training tweets do you have? \n",
        "len(train_inputs)"
      ],
      "execution_count": null,
      "outputs": []
    },
    {
      "cell_type": "code",
      "metadata": {
        "id": "3lUovm-xmGbC"
      },
      "source": [
        "# How many test tweets do you have? \n",
        "len(test_inputs)"
      ],
      "execution_count": null,
      "outputs": []
    },
    {
      "cell_type": "markdown",
      "metadata": {
        "id": "4LTBu9v-qteI"
      },
      "source": [
        "### Exercise 4\n",
        "*Additionally use GermEval data set for training.*"
      ]
    },
    {
      "cell_type": "code",
      "metadata": {
        "id": "KHDnNsImhFKd"
      },
      "source": [
        "# # Use additional Germeval data for training\n",
        "# from sklearn.model_selection import train_test_split\n",
        "# import numpy as np\n",
        "\n",
        "# # Use 80% for training and 20% for validation.\n",
        "# train_inputs1, test_inputs, train_labels1, test_labels = train_test_split(_______________, _______________,                         # input_ids, labels\n",
        "#                                                             random_state=42, test_size=0.2, stratify = labels)\n",
        "\n",
        "# # Do the same for the masks.\n",
        "# train_masks1, test_masks, _, _ = train_test_split(attention_masks, labels,\n",
        "#                                              random_state=42, test_size=0.2, stratify = labels)\n",
        "\n",
        "# # Mix train_inputs1, train_labels1, train_masks1 with germeval data\n",
        "# train_inputs2 = np.concatenate((train_inputs1, input_ids_germeval), axis=0)\n",
        "# train_labels2 = np.concatenate((train_labels1, labels_germeval), axis=None)\n",
        "# train_masks2  = np.concatenate((train_masks1, attention_masks_germeval), axis=0)\n",
        "\n",
        "\n",
        "\n",
        "# # Use 20% of train set as validation set \n",
        "# train_inputs, validation_inputs, train_labels, validation_labels = train_test_split(_______________, train_labels2,            # train_inputs2\n",
        "#                                                                                     test_size=0.2, random_state=2020) \n",
        "\n",
        "# # Do the same for the masks.\n",
        "# train_masks, validation_masks, _, _ = train_test_split(train_masks2, _______________,               # train_labels2\n",
        "#                                              random_state=2020, test_size=0.2)    "
      ],
      "execution_count": null,
      "outputs": []
    },
    {
      "cell_type": "markdown",
      "metadata": {
        "id": "ZTaFTXqFO080"
      },
      "source": [
        "Convert all inputs and labels into torch tensors, the required datatype \n",
        "for our model."
      ]
    },
    {
      "cell_type": "code",
      "metadata": {
        "id": "pg71HZ7qifpo"
      },
      "source": [
        "train_inputs = torch.tensor(train_inputs)\n",
        "validation_inputs = torch.tensor(validation_inputs)\n",
        "test_inputs = torch.tensor(test_inputs)\n",
        "\n",
        "train_labels = torch.tensor(train_labels)\n",
        "validation_labels = torch.tensor(validation_labels)\n",
        "test_labels = torch.tensor(test_labels)\n",
        "\n",
        "train_masks = torch.tensor(train_masks)\n",
        "validation_masks = torch.tensor(validation_masks)\n",
        "test_masks = torch.tensor(test_masks)"
      ],
      "execution_count": null,
      "outputs": []
    },
    {
      "cell_type": "markdown",
      "metadata": {
        "id": "LFLnUkVxsCTS"
      },
      "source": [
        "### Exercise 5\n",
        "*Try another set of hyperparameters recommended by BERT authors.*"
      ]
    },
    {
      "cell_type": "code",
      "metadata": {
        "id": "-SQQwH_VrL63"
      },
      "source": [
        "# Define batch size here to let DataLoader know. \n",
        "# BERT-authors recommend a batch size of 16 or 32 for fine-tuning.\n",
        "# batch_size = _______________"
      ],
      "execution_count": null,
      "outputs": []
    },
    {
      "cell_type": "code",
      "metadata": {
        "id": "3LXM1YHwrRQC"
      },
      "source": [
        "# Define the learning rate \n",
        "# learning_rate = _______________"
      ],
      "execution_count": null,
      "outputs": []
    },
    {
      "cell_type": "code",
      "metadata": {
        "id": "8oJka_WQrms8"
      },
      "source": [
        "# Number of training epochs (authors recommend between 2 and 4)\n",
        "# epochs = _______________"
      ],
      "execution_count": null,
      "outputs": []
    },
    {
      "cell_type": "markdown",
      "metadata": {
        "id": "xeutTU9Hr0pB"
      },
      "source": [
        "The torch DataLoader class enables to create  an iterator for our data in order to save memory during training process."
      ]
    },
    {
      "cell_type": "code",
      "metadata": {
        "id": "oBRWzCgriurl"
      },
      "source": [
        "from torch.utils.data import TensorDataset, DataLoader, RandomSampler, SequentialSampler\n",
        "\n",
        "# Create the DataLoader for our training set.\n",
        "train_data = TensorDataset(train_inputs, train_masks, train_labels)\n",
        "train_sampler = RandomSampler(train_data)\n",
        "train_dataloader = DataLoader(train_data, sampler=train_sampler, batch_size=batch_size)\n",
        "\n",
        "# Create the DataLoader for our validation set.\n",
        "validation_data = TensorDataset(validation_inputs, validation_masks, validation_labels)\n",
        "validation_sampler = SequentialSampler(validation_data)\n",
        "validation_dataloader = DataLoader(validation_data, sampler=validation_sampler, batch_size=batch_size)\n",
        "\n",
        "# Create the DataLoader for our test set.\n",
        "test_data = TensorDataset(test_inputs, test_masks, test_labels)\n",
        "test_sampler = SequentialSampler(test_data)\n",
        "test_dataloader = DataLoader(test_data, sampler=test_sampler, batch_size=batch_size)\n"
      ],
      "execution_count": null,
      "outputs": []
    },
    {
      "cell_type": "markdown",
      "metadata": {
        "id": "BIEy4SR4R6ch"
      },
      "source": [
        "Load BertForSequenceClassification, the pretrained BERT model with a single \n",
        "linear classification layer on top. This is the one for classification tasks in general. *(see for more details https://huggingface.co/transformers/v2.2.0/model_doc/bert.html)*"
      ]
    },
    {
      "cell_type": "code",
      "metadata": {
        "id": "_xILaX9ulICZ"
      },
      "source": [
        "from transformers import BertForSequenceClassification, AdamW, BertConfig\n",
        "\n",
        "\n",
        "model = BertForSequenceClassification.from_pretrained(\n",
        "    pretrained_model, \n",
        "    num_labels = 2, # The number of output labels--2 for binary classification. Can be increased for multiclass\n",
        "    output_attentions = False, \n",
        "    output_hidden_states = False \n",
        ")\n",
        "\n",
        "# Run this model on the GPU.\n",
        "model.cuda()"
      ],
      "execution_count": null,
      "outputs": []
    },
    {
      "cell_type": "code",
      "metadata": {
        "id": "wddbSBdwl6MM"
      },
      "source": [
        "# All of the model's parameters as a list of tuples.\n",
        "params = list(model.named_parameters())"
      ],
      "execution_count": null,
      "outputs": []
    },
    {
      "cell_type": "markdown",
      "metadata": {
        "id": "rOogCCNSS1_z"
      },
      "source": [
        "Get the optimizer after loading the model. \n",
        "\n",
        "*(see for more details on AdamW Optimizer https://github.com/huggingface/transformers/blob/5bfcd0485ece086ebcbed2d008813037968a9e58/examples/run_glue.py#L109)*"
      ]
    },
    {
      "cell_type": "code",
      "metadata": {
        "id": "N5YMJeG7m1GW"
      },
      "source": [
        "optimizer = AdamW(model.parameters(),\n",
        "                  lr = learning_rate, \n",
        "                  eps = 1e-8 \n",
        "                )"
      ],
      "execution_count": null,
      "outputs": []
    },
    {
      "cell_type": "code",
      "metadata": {
        "id": "TypGI2W5m5X9"
      },
      "source": [
        "from transformers import get_linear_schedule_with_warmup\n",
        "\n",
        "# Total number of training steps is number of batches * number of epochs.\n",
        "total_steps = len(train_dataloader) * epochs\n",
        "\n",
        "# Create the learning rate scheduler.\n",
        "scheduler = get_linear_schedule_with_warmup(optimizer, \n",
        "                                            num_warmup_steps = 0, # Default value in run_glue.py\n",
        "                                            num_training_steps = total_steps)"
      ],
      "execution_count": null,
      "outputs": []
    },
    {
      "cell_type": "code",
      "metadata": {
        "id": "5fgx-tuPnc8Z"
      },
      "source": [
        "# helper function for calculating accuracy\n",
        "import numpy as np\n",
        "\n",
        "# Function to calculate the accuracy of our predictions vs labels\n",
        "def flat_accuracy(preds, labels):\n",
        "    pred_flat = np.argmax(preds, axis=1).flatten()\n",
        "    labels_flat = labels.flatten()\n",
        "    return np.sum(pred_flat == labels_flat) / len(labels_flat)"
      ],
      "execution_count": null,
      "outputs": []
    },
    {
      "cell_type": "code",
      "metadata": {
        "id": "fcSWb-YhpNo4"
      },
      "source": [
        "# helper function for formatting elapsed times\n",
        "import time\n",
        "import datetime\n",
        "\n",
        "def format_time(elapsed):\n",
        "    '''\n",
        "    Takes a time in seconds and returns a string hh:mm:ss\n",
        "    '''\n",
        "    # Round to the nearest second.\n",
        "    elapsed_rounded = int(round((elapsed)))\n",
        "    \n",
        "    # Format as hh:mm:ss\n",
        "    return str(datetime.timedelta(seconds=elapsed_rounded))"
      ],
      "execution_count": null,
      "outputs": []
    },
    {
      "cell_type": "markdown",
      "metadata": {
        "id": "cTwfA1dVrJFv"
      },
      "source": [
        "### Exercise 6\n",
        "*Fine-tune your model.*"
      ]
    },
    {
      "cell_type": "markdown",
      "metadata": {
        "id": "Dgc1fHkwTxaf"
      },
      "source": [
        "Let's start the actual training process"
      ]
    },
    {
      "cell_type": "code",
      "metadata": {
        "id": "acrG210Npcb4"
      },
      "source": [
        "import random\n",
        "\n",
        "# This training code is based on the `run_glue.py` script here:\n",
        "# https://github.com/huggingface/transformers/blob/5bfcd0485ece086ebcbed2d008813037968a9e58/examples/run_glue.py#L128\n",
        "\n",
        "seed_val = 55\n",
        "\n",
        "random.seed(seed_val)\n",
        "np.random.seed(seed_val)\n",
        "torch.manual_seed(seed_val)\n",
        "torch.cuda.manual_seed_all(seed_val)\n",
        "\n",
        "loss_values = []\n",
        "\n",
        "# For each epoch:\n",
        "for epoch_i in range(0, epochs):\n",
        "    \n",
        "    ## TRAIN\n",
        "    # Perform one full pass over the training set.\n",
        "\n",
        "    print(\"\")\n",
        "    print('======== Epoch {:} / {:} ========'.format(epoch_i + 1, epochs))\n",
        "    print('Training...')\n",
        "\n",
        "    # how long does the training epoch take.\n",
        "    t0 = time.time()\n",
        "\n",
        "    # Reset the total loss for this epoch.\n",
        "    total_loss = 0\n",
        "\n",
        "    # Turn on the training mode for the model. \n",
        "    model.train()\n",
        "\n",
        "    # For each batch of training data:\n",
        "    for step, batch in enumerate(train_dataloader):\n",
        "\n",
        "        # Progress update every 40 batches.\n",
        "        if step % 40 == 0 and not step == 0:\n",
        "            # Calculate elapsed time in minutes.\n",
        "            elapsed = format_time(time.time() - t0)\n",
        "            \n",
        "            # Report progress.\n",
        "            print('  Batch {:>5,}  of  {:>5,}.    Elapsed: {:}.'.format(step, len(train_dataloader), elapsed))\n",
        "\n",
        "        # Unpack the batch and load onto the GPU.\n",
        "        # Each batch contains input ids, attention masks, labels. \n",
        "        b_input_ids = batch[0].to(device)\n",
        "        b_input_mask = batch[1].to(device)\n",
        "        b_labels = batch[2].to(device)\n",
        "\n",
        "        # Remove any previously calculated gradients before performing a\n",
        "        # backward pass. \n",
        "        model.zero_grad()        \n",
        "\n",
        "        # Do a forward pass. \n",
        "        outputs = model(b_input_ids, \n",
        "                    token_type_ids=None, \n",
        "                    attention_mask=b_input_mask, \n",
        "                    labels=b_labels)\n",
        "        \n",
        "        \n",
        "        loss = outputs[0]\n",
        "\n",
        "        # Accumulate the training loss over all of the batches so that we can\n",
        "        # calculate the average loss at the end. \n",
        "        total_loss += loss.item()\n",
        "\n",
        "        # Do a backward pass to calculate the gradients.\n",
        "        loss.backward()\n",
        "\n",
        "        # Clip the norm of the gradients to 1.0. \n",
        "        torch.nn.utils.clip_grad_norm_(model.parameters(), 1.0)\n",
        "\n",
        "        # Update parameters and take a step.\n",
        "        optimizer.step()\n",
        "\n",
        "        scheduler.step()\n",
        "\n",
        "    # Avg loss over the training data.\n",
        "    avg_train_loss = total_loss / len(train_dataloader)            \n",
        "    \n",
        "    # Need for plotting the learning curve later.\n",
        "    loss_values.append(avg_train_loss)\n",
        "\n",
        "    print(\"\")\n",
        "    print(\"  Avg training loss: {0:.2f}\".format(avg_train_loss))\n",
        "    print(\"  Epoch time: {:}\".format(format_time(time.time() - t0)))\n",
        "        \n",
        "    ## VALIDATE\n",
        "    # After each training epoch, we measure performance on\n",
        "    # validation set.\n",
        "\n",
        "    t0 = time.time()\n",
        "\n",
        "    # Turn on the evaluation mode of the model.\n",
        "    model.eval()\n",
        "\n",
        "    # Tracking variables \n",
        "    eval_loss, eval_accuracy = 0, 0\n",
        "    nb_eval_steps, nb_eval_examples = 0, 0\n",
        "\n",
        "    # Evaluate data for one epoch\n",
        "    for batch in validation_dataloader:\n",
        "        \n",
        "        # Add batch to GPU\n",
        "        batch = tuple(t.to(device) for t in batch)\n",
        "        \n",
        "        # Unpack the inputs from our dataloader\n",
        "        b_input_ids, b_input_mask, b_labels = batch\n",
        "        \n",
        "        \n",
        "        with torch.no_grad():        \n",
        "\n",
        "            # Forward pass, calculate logit predictions.\n",
        "            outputs = model(b_input_ids, \n",
        "                            token_type_ids=None, \n",
        "                            attention_mask=b_input_mask)\n",
        "        \n",
        "        # Get logit values predicted for each class.\n",
        "        logits = outputs[0]\n",
        "\n",
        "        # Move logits and labels to CPU\n",
        "        logits = logits.detach().cpu().numpy()\n",
        "        label_ids = b_labels.to('cpu').numpy()\n",
        "        \n",
        "        # Accuracy for this batch of validation tweets.\n",
        "        tmp_eval_accuracy = flat_accuracy(logits, label_ids)\n",
        "        \n",
        "        # Accumulate the total accuracy.\n",
        "        eval_accuracy += tmp_eval_accuracy\n",
        "\n",
        "        # Number of batches\n",
        "        nb_eval_steps += 1\n",
        "\n",
        "    # Report the final accuracy for this validation run.\n",
        "    print(\"  Accuracy: {0:.2f}\".format(eval_accuracy/nb_eval_steps))\n",
        "    print(\"  Validation time: {:}\".format(format_time(time.time() - t0)))\n",
        "\n",
        "print(\"\")\n",
        "print(\"Training complete!\")"
      ],
      "execution_count": null,
      "outputs": []
    },
    {
      "cell_type": "code",
      "metadata": {
        "id": "yKJGT2uxqsNu"
      },
      "source": [
        "# Visualize the training results\n",
        "import matplotlib.pyplot as plt\n",
        "% matplotlib inline\n",
        "\n",
        "import seaborn as sns\n",
        "\n",
        "# Use plot styling from seaborn.\n",
        "sns.set(style='darkgrid')\n",
        "\n",
        "# Increase the plot size and font size.\n",
        "sns.set(font_scale=1.5)\n",
        "plt.rcParams[\"figure.figsize\"] = (12,6)\n",
        "\n",
        "# Plot the learning curve.\n",
        "plt.plot(loss_values, 'b-o')\n",
        "\n",
        "# Label the plot.\n",
        "plt.title(\"Training loss\")\n",
        "plt.xlabel(\"Epoch\")\n",
        "plt.ylabel(\"Loss\")\n",
        "\n",
        "plt.show()"
      ],
      "execution_count": null,
      "outputs": []
    },
    {
      "cell_type": "markdown",
      "metadata": {
        "id": "FVV9-_GMY76z"
      },
      "source": [
        "## Evaluation on Test Set"
      ]
    },
    {
      "cell_type": "code",
      "metadata": {
        "id": "tocnbPMDRN00"
      },
      "source": [
        "# Prediction on test set\n",
        "\n",
        "print('Predicting labels for {:,} test tweets...'.format(len(test_inputs)))\n",
        "\n",
        "# Turn on the evaluation mode of the model\n",
        "model.eval()\n",
        "\n",
        "predictions , true_labels = [], []\n",
        "\n",
        "# Predict \n",
        "for batch in test_dataloader:\n",
        "  # Add batch to GPU\n",
        "  batch = tuple(t.to(device) for t in batch)\n",
        "  \n",
        "  # Unpack the inputs from our dataloader\n",
        "  b_input_ids, b_input_mask, b_labels = batch\n",
        "  \n",
        "  # Compute gradients, save memory and speed up prediction\n",
        "  with torch.no_grad():\n",
        "      # Forward pass, calculate logit predictions\n",
        "      outputs = model(b_input_ids, token_type_ids=None, \n",
        "                      attention_mask=b_input_mask)\n",
        "\n",
        "  logits = outputs[0]\n",
        "\n",
        "  # Move logits and labels to CPU\n",
        "  logits = logits.detach().cpu().numpy()\n",
        "  label_ids = b_labels.to('cpu').numpy()\n",
        "  \n",
        "  # Store predictions and true labels\n",
        "  predictions.append(logits)\n",
        "  true_labels.append(label_ids)\n",
        "\n",
        "print('    DONE.')"
      ],
      "execution_count": null,
      "outputs": []
    },
    {
      "cell_type": "code",
      "metadata": {
        "colab": {
          "base_uri": "https://localhost:8080/"
        },
        "id": "eOIrNxOukbY6",
        "outputId": "fa182b81-8d17-4449-eaf4-29784f2069c8"
      },
      "source": [
        "print('Positive samples: %d of %d (%.2f%%)' % (df.label_binary.sum(), len(df.label_binary), (df.label_binary.sum() / len(df.label_binary) * 100.0)))"
      ],
      "execution_count": null,
      "outputs": [
        {
          "output_type": "stream",
          "text": [
            "Positive samples: 335 of 1215 (27.57%)\n"
          ],
          "name": "stdout"
        }
      ]
    },
    {
      "cell_type": "markdown",
      "metadata": {
        "id": "8iNrCwTYa6cI"
      },
      "source": [
        "Performance measures"
      ]
    },
    {
      "cell_type": "code",
      "metadata": {
        "id": "9YzWo-1qp3kn"
      },
      "source": [
        "# Combine the predictions for each batch into a single list of 0s and 1s.\n",
        "flat_predictions = [item for sublist in predictions for item in sublist]"
      ],
      "execution_count": null,
      "outputs": []
    },
    {
      "cell_type": "code",
      "metadata": {
        "id": "kd4kOBthmifT"
      },
      "source": [
        "# List of keys of the highest scores, i.e. predictions (indices of the maximum values along an axis)\n",
        "flat_predictions = np.argmax(flat_predictions, axis=1).flatten()"
      ],
      "execution_count": null,
      "outputs": []
    },
    {
      "cell_type": "code",
      "metadata": {
        "id": "WGWTUvMEmjqv"
      },
      "source": [
        "# Combine the correct labels for each batch into a single list.\n",
        "flat_true_labels = [item for sublist in true_labels for item in sublist]"
      ],
      "execution_count": null,
      "outputs": []
    },
    {
      "cell_type": "markdown",
      "metadata": {
        "id": "6x7g2bzgb-o9"
      },
      "source": [
        "F1 score, accuracy and confusion matrix"
      ]
    },
    {
      "cell_type": "markdown",
      "metadata": {
        "id": "haL4-Mwpqm-i"
      },
      "source": [
        "### Exercise 7\n",
        "*Print out the accuracy score.*"
      ]
    },
    {
      "cell_type": "code",
      "metadata": {
        "id": "cAoOFsCUwsLq"
      },
      "source": [
        "from sklearn.metrics import f1_score, accuracy_score, confusion_matrix\n",
        "\n",
        "# F1-Score (weighted)\n",
        "f1_value = f1_score(flat_predictions, flat_true_labels, average=\"weighted\")\n",
        "\n",
        "# Accuracy Score\n",
        "accuracy = accuracy_score(_______________, _______________) # flat_predictions, flat_true_labels\n",
        "\n",
        "print(\"F1 Score (Weighted): {}\".format(f1_value))\n",
        "print(\"Accuracy: {}\".format(accuracy))"
      ],
      "execution_count": null,
      "outputs": []
    },
    {
      "cell_type": "code",
      "metadata": {
        "id": "2s22lIKFxrOu"
      },
      "source": [
        "def display_confusion_matrix(true_labels, predicted_labels, classes=[1,0]):\n",
        "    \n",
        "    cm = confusion_matrix(y_true=true_labels, \n",
        "                                  y_pred=predicted_labels, \n",
        "                                  labels=classes)\n",
        "    cm_frame = pd.DataFrame(data=cm, \n",
        "                            columns=pd.MultiIndex(levels=[['Predicted:'], classes], \n",
        "                                                  codes=[[0,0],[0,1]]), \n",
        "                            index=pd.MultiIndex(levels=[['Actual:'], classes], \n",
        "                                                codes=[[0,0],[0,1]])) \n",
        "    return cm_frame   "
      ],
      "execution_count": null,
      "outputs": []
    },
    {
      "cell_type": "code",
      "metadata": {
        "id": "aARx5G5vy5vZ"
      },
      "source": [
        "confusion_mat = display_confusion_matrix(true_labels = flat_true_labels, predicted_labels = flat_predictions)\n",
        "confusion_mat"
      ],
      "execution_count": null,
      "outputs": []
    }
  ]
}